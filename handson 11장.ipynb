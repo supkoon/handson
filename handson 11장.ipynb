{
 "cells": [
  {
   "cell_type": "code",
   "execution_count": 2,
   "id": "2336a090-86ac-4d08-ba00-c9017bb3a0e4",
   "metadata": {},
   "outputs": [],
   "source": [
    "import tensorflow as tf\n",
    "from tensorflow import keras\n",
    "import matplotlib.pyplot as plt\n",
    "import numpy as np\n",
    "import pandas as pd"
   ]
  },
  {
   "cell_type": "markdown",
   "id": "12e2f33a-9426-4a67-8487-f4ccf0c57b0b",
   "metadata": {},
   "source": [
    "#### mnist"
   ]
  },
  {
   "cell_type": "code",
   "execution_count": 3,
   "id": "100e78fa-8e74-4d86-b53d-2e44229af94a",
   "metadata": {},
   "outputs": [],
   "source": [
    "(x_train,y_train), (x_test,y_test) = keras.datasets.mnist.load_data()"
   ]
  },
  {
   "cell_type": "code",
   "execution_count": 4,
   "id": "1b0d9b8b-4c75-4570-8b88-51a71f5dcbb8",
   "metadata": {},
   "outputs": [
    {
     "data": {
      "text/plain": [
       "(60000, 28, 28)"
      ]
     },
     "execution_count": 4,
     "metadata": {},
     "output_type": "execute_result"
    }
   ],
   "source": [
    "x_train.shape"
   ]
  },
  {
   "cell_type": "markdown",
   "id": "b3a49d65-547b-48d5-967e-298fe08e355e",
   "metadata": {},
   "source": [
    "# 11.1 Gradient Vanishing, exploding"
   ]
  },
  {
   "cell_type": "markdown",
   "id": "1d444023-0688-49f3-82c0-71762cf267b1",
   "metadata": {},
   "source": [
    "## 11.1.1 initializer"
   ]
  },
  {
   "cell_type": "code",
   "execution_count": 5,
   "id": "a28d4459-bdd7-417c-9e17-7256e3f4d48b",
   "metadata": {},
   "outputs": [
    {
     "data": {
      "text/plain": [
       "<tensorflow.python.keras.layers.core.Dense at 0x128e45040>"
      ]
     },
     "execution_count": 5,
     "metadata": {},
     "output_type": "execute_result"
    }
   ],
   "source": [
    "#글로럿 == Xavier : 분산 : 1/fan(avg)\n",
    "keras.layers.Dense(10,activation='tanh',kernel_initializer = keras.initializers.glorot_uniform)\n",
    "#he : 분산 : 2/fan(in) \n",
    "keras.layers.Dense(10,activation='relu',kernel_initializer = keras.initializers.he_normal)\n",
    "#lecun : 분산 : 1/fan(in)\n",
    "keras.layers.Dense(10,activation='selu',kernel_initializer = keras.initializers.he_normal)\n"
   ]
  },
  {
   "cell_type": "markdown",
   "id": "e4076463-3282-4785-a877-4435feb6a1ef",
   "metadata": {},
   "source": [
    "### Variance Scaling"
   ]
  },
  {
   "cell_type": "code",
   "execution_count": 6,
   "id": "e9f6eaf5-602a-4163-890a-46ca6d70ff45",
   "metadata": {},
   "outputs": [],
   "source": [
    "#Varaiance Scaling\n",
    "#he normal의 분산을 2/fan_avg 로 바꾸기\n",
    "he_avg_init = keras.initializers.variance_scaling(scale=2, mode = 'fan_avg',\n",
    "                                                 distribution = 'normal')"
   ]
  },
  {
   "cell_type": "markdown",
   "id": "790352d0-92e2-4ab2-8169-3c3a5b578453",
   "metadata": {},
   "source": [
    "## 11.1.2 activation function"
   ]
  },
  {
   "cell_type": "code",
   "execution_count": 7,
   "id": "d5ede1e6-57e9-49cc-b083-9643c2bf9f06",
   "metadata": {},
   "outputs": [],
   "source": [
    "z = np.linspace(-5,5,50)"
   ]
  },
  {
   "cell_type": "code",
   "execution_count": 8,
   "id": "174cf924-219d-478a-ada8-4a46d549828f",
   "metadata": {},
   "outputs": [],
   "source": [
    "def relu(z):\n",
    "    return np.maximum(0,z)"
   ]
  },
  {
   "cell_type": "markdown",
   "id": "0a3cb032-1ef6-4381-9cc0-78f8ec8aac60",
   "metadata": {},
   "source": [
    "### relu"
   ]
  },
  {
   "cell_type": "code",
   "execution_count": 9,
   "id": "4e6e1978-30bf-4271-9851-cdbbb58334d5",
   "metadata": {},
   "outputs": [
    {
     "data": {
      "text/plain": [
       "(-5.0, 5.0, -1.0, 5.0)"
      ]
     },
     "execution_count": 9,
     "metadata": {},
     "output_type": "execute_result"
    },
    {
     "data": {
      "image/png": "[encoded data removed]",
      "text/plain": [
       "<Figure size 432x288 with 1 Axes>"
      ]
     },
     "metadata": {
      "needs_background": "light"
     },
     "output_type": "display_data"
    }
   ],
   "source": [
    "plt.plot(z,relu(z))\n",
    "plt.plot([-5,5],[0,0],'k:')\n",
    "plt.plot([0,0],[-5,5],'k:')\n",
    "plt.grid(True)\n",
    "plt.title(\"ReLU\", fontsize=14)\n",
    "plt.axis([-5,5,-1,5])"
   ]
  },
  {
   "cell_type": "markdown",
   "id": "9b5d0165-c4ee-4350-8b42-7082c3979af2",
   "metadata": {},
   "source": [
    "### leayky relu"
   ]
  },
  {
   "cell_type": "code",
   "execution_count": 10,
   "id": "276321de-1a48-4d82-af9b-dfc257fab733",
   "metadata": {},
   "outputs": [
    {
     "data": {
      "text/plain": [
       "<tensorflow.python.keras.layers.advanced_activations.LeakyReLU at 0x128f5d7c0>"
      ]
     },
     "execution_count": 10,
     "metadata": {},
     "output_type": "execute_result"
    }
   ],
   "source": [
    "keras.layers.LeakyReLU(alpha = 0.1)"
   ]
  },
  {
   "cell_type": "code",
   "execution_count": 11,
   "id": "3a974b5d-2aea-4ac9-92b5-10c40f4c4d4b",
   "metadata": {},
   "outputs": [],
   "source": [
    "def leaky_relu(z,alpha):\n",
    "    return np.maximum(alpha*z,z)"
   ]
  },
  {
   "cell_type": "code",
   "execution_count": 12,
   "id": "03388ae2-3be3-414b-b947-72ad8c68e87a",
   "metadata": {},
   "outputs": [
    {
     "data": {
      "text/plain": [
       "(-5.0, 5.0, -1.0, 5.0)"
      ]
     },
     "execution_count": 12,
     "metadata": {},
     "output_type": "execute_result"
    },
    {
     "data": {
      "image/png": "[encoded data removed]",
      "text/plain": [
       "<Figure size 432x288 with 1 Axes>"
      ]
     },
     "metadata": {
      "needs_background": "light"
     },
     "output_type": "display_data"
    }
   ],
   "source": [
    "plt.plot(z,leaky_relu(z,0.1))\n",
    "plt.plot([-5,5],[0,0],'k:')\n",
    "plt.plot([0,0],[-5,5],'k:')\n",
    "plt.grid(True)\n",
    "props= dict(facecolor='black', shrink=0.1)\n",
    "plt.annotate('Leak', xytext=(-3.5,0.5),xy=(-5,-0.2),arrowprops=props,fontsize=14, ha=\"center\")\n",
    "plt.title(\"Leaky ReLU\", fontsize=14)\n",
    "plt.axis([-5,5,-1,5])"
   ]
  },
  {
   "cell_type": "markdown",
   "id": "8bb58e65-bb5d-4577-bda9-868ee65c734e",
   "metadata": {},
   "source": [
    "### elu"
   ]
  },
  {
   "cell_type": "code",
   "execution_count": 13,
   "id": "238d1b36-76eb-4ef7-8d4c-02a974d749bc",
   "metadata": {},
   "outputs": [],
   "source": [
    "def elu(z,alpha):\n",
    "    exponential =alpha*(np.exp(z)-1)\n",
    "    return np.where(z<=0,exponential,z)"
   ]
  },
  {
   "cell_type": "code",
   "execution_count": 14,
   "id": "fe9fa7d2-b0a8-419c-9795-bf99e8bca6bd",
   "metadata": {},
   "outputs": [
    {
     "data": {
      "text/plain": [
       "(-5.0, 5.0, -1.0, 5.0)"
      ]
     },
     "execution_count": 14,
     "metadata": {},
     "output_type": "execute_result"
    },
    {
     "data": {
      "image/png": "[encoded data removed]",
      "text/plain": [
       "<Figure size 432x288 with 1 Axes>"
      ]
     },
     "metadata": {
      "needs_background": "light"
     },
     "output_type": "display_data"
    }
   ],
   "source": [
    "plt.plot(z,elu(z,1))\n",
    "plt.plot([-5,5],[0,0],'k:')\n",
    "plt.plot([0,0],[-5,5],'k:')\n",
    "plt.grid(True)\n",
    "props= dict(facecolor='black', shrink=0.1)\n",
    "plt.annotate('exponential', xytext=(-3.5,0.5),xy=(-5,-0.2),arrowprops=props,fontsize=14, ha=\"center\")\n",
    "plt.title(\"ELU\", fontsize=14)\n",
    "plt.axis([-5,5,-1,5])"
   ]
  },
  {
   "cell_type": "markdown",
   "id": "ddeb0544-27b3-432f-b310-89b48cc63c31",
   "metadata": {},
   "source": [
    "### selu"
   ]
  },
  {
   "cell_type": "code",
   "execution_count": 15,
   "id": "427586f3-c5d4-4473-b18f-c067c13f393c",
   "metadata": {},
   "outputs": [
    {
     "data": {
      "text/plain": [
       "<tensorflow.python.keras.layers.core.Dense at 0x1290770d0>"
      ]
     },
     "execution_count": 15,
     "metadata": {},
     "output_type": "execute_result"
    }
   ],
   "source": [
    "#스케일이 조정된 elu 활성화 함수\n",
    "#자기 정규화 경향.\n",
    "#lecun normal과 함께 써야함.\n",
    "keras.layers.Dense(1,keras.initializers.lecun_normal,keras.activations.selu)"
   ]
  },
  {
   "cell_type": "markdown",
   "id": "f5ff4c28-1cf1-49f4-bf84-10692d886ac1",
   "metadata": {},
   "source": [
    "## 11.1.3 배치 정규화"
   ]
  },
  {
   "cell_type": "markdown",
   "id": "3ac7b08d-b87e-4c39-ab66-d73dceeb3457",
   "metadata": {},
   "source": [
    "훈련시 :활성화 함수를 통과하기 전이나 후 , 배치 입력을 정규화  \n",
    "테스트 시 : 훈련 중 이동평균으로 추정한 평균과 표준편차를 이용해 샘플을 추론 "
   ]
  },
  {
   "cell_type": "markdown",
   "id": "04c6bfda-cd7e-4d7b-af9b-d46314c4e066",
   "metadata": {},
   "source": [
    "#### 활성화함수 이후에 추가 : 활성화 함수를 파라미터로 추가"
   ]
  },
  {
   "cell_type": "code",
   "execution_count": 16,
   "id": "91ce3aaf-235b-4326-a430-958d4954e45f",
   "metadata": {},
   "outputs": [],
   "source": [
    "model = keras.models.Sequential([\n",
    "        keras.layers.Flatten(input_shape =[28,28]),\n",
    "        keras.layers.BatchNormalization(),\n",
    "        keras.layers.Dense(300,activation ='selu', kernel_initializer = 'lecun_normal'),\n",
    "        keras.layers.BatchNormalization(),\n",
    "        keras.layers.Dense(100,activation ='selu', kernel_initializer = 'lecun_normal'),\n",
    "        keras.layers.BatchNormalization(),\n",
    "        keras.layers.Dense(10,activation = \"softmax\")\n",
    "]\n",
    ")"
   ]
  },
  {
   "cell_type": "markdown",
   "id": "d3438275-7ebb-42d6-90c2-6b8662f484fd",
   "metadata": {},
   "source": [
    "#### 활성화 함수 이전에 추가 : 활성화 함수를 별도의 레이어로 추가"
   ]
  },
  {
   "cell_type": "code",
   "execution_count": 17,
   "id": "92162688-48e7-4b3d-b47f-9b1002b5a479",
   "metadata": {},
   "outputs": [],
   "source": [
    "model = keras.models.Sequential([\n",
    "        keras.layers.Flatten(input_shape =[28,28]),\n",
    "        keras.layers.BatchNormalization(),\n",
    "        keras.layers.Dense(300, kernel_initializer = 'lecun_normal'),\n",
    "        keras.layers.BatchNormalization(),\n",
    "        keras.layers.Activation(\"selu\"),\n",
    "        keras.layers.Dense(100, kernel_initializer = 'lecun_normal'),\n",
    "        keras.layers.BatchNormalization(),\n",
    "        keras.layers.Activation(\"selu\"),\n",
    "        keras.layers.Dense(10,activation = \"softmax\")\n",
    "]\n",
    ")"
   ]
  },
  {
   "cell_type": "markdown",
   "id": "fffa922a-1d4e-4a15-a1c9-4baadb952667",
   "metadata": {},
   "source": [
    "#### batchnorm의 파라미터"
   ]
  },
  {
   "cell_type": "code",
   "execution_count": 18,
   "id": "3082dee7-292f-41fe-af17-64ffc06b541a",
   "metadata": {},
   "outputs": [
    {
     "name": "stdout",
     "output_type": "stream",
     "text": [
      "Model: \"sequential_1\"\n",
      "_________________________________________________________________\n",
      "Layer (type)                 Output Shape              Param #   \n",
      "=================================================================\n",
      "flatten_1 (Flatten)          (None, 784)               0         \n",
      "_________________________________________________________________\n",
      "batch_normalization_3 (Batch (None, 784)               3136      \n",
      "_________________________________________________________________\n",
      "dense_7 (Dense)              (None, 300)               235500    \n",
      "_________________________________________________________________\n",
      "batch_normalization_4 (Batch (None, 300)               1200      \n",
      "_________________________________________________________________\n",
      "activation (Activation)      (None, 300)               0         \n",
      "_________________________________________________________________\n",
      "dense_8 (Dense)              (None, 100)               30100     \n",
      "_________________________________________________________________\n",
      "batch_normalization_5 (Batch (None, 100)               400       \n",
      "_________________________________________________________________\n",
      "activation_1 (Activation)    (None, 100)               0         \n",
      "_________________________________________________________________\n",
      "dense_9 (Dense)              (None, 10)                1010      \n",
      "=================================================================\n",
      "Total params: 271,346\n",
      "Trainable params: 268,978\n",
      "Non-trainable params: 2,368\n",
      "_________________________________________________________________\n"
     ]
    }
   ],
   "source": [
    "model.summary()\n",
    "#batch norm은 4개의 파라미터 존재. 4 x 784 = 3136"
   ]
  },
  {
   "cell_type": "code",
   "execution_count": 19,
   "id": "fefca8a7-86fa-4502-9ecc-04feb786819f",
   "metadata": {},
   "outputs": [
    {
     "data": {
      "text/plain": [
       "[('batch_normalization_3/gamma:0', True),\n",
       " ('batch_normalization_3/beta:0', True),\n",
       " ('batch_normalization_3/moving_mean:0', False),\n",
       " ('batch_normalization_3/moving_variance:0', False)]"
      ]
     },
     "execution_count": 19,
     "metadata": {},
     "output_type": "execute_result"
    }
   ],
   "source": [
    "[(var.name, var.trainable) for var in model.layers[1].variables]\n",
    "#두개는 하이퍼파리미터, 두개는 학습가능한 이동평균 평균, 표준편차"
   ]
  },
  {
   "cell_type": "code",
   "execution_count": 20,
   "id": "1c8b1d9c-cee6-448e-879f-4777468bbb77",
   "metadata": {},
   "outputs": [],
   "source": [
    "model.compile(loss = keras.losses.sparse_categorical_crossentropy,\n",
    "              metrics = [\"accuracy\"],\n",
    "             optimizer = 'adam')"
   ]
  },
  {
   "cell_type": "code",
   "execution_count": 21,
   "id": "7e1abda2-8fba-4843-8dd1-04725e890e13",
   "metadata": {},
   "outputs": [
    {
     "data": {
      "text/plain": [
       "(60000, 28, 28)"
      ]
     },
     "execution_count": 21,
     "metadata": {},
     "output_type": "execute_result"
    }
   ],
   "source": [
    "x_train.shape"
   ]
  },
  {
   "cell_type": "code",
   "execution_count": 22,
   "id": "ba395e15-50c9-432f-9fb1-c6130674951d",
   "metadata": {},
   "outputs": [
    {
     "data": {
      "text/plain": [
       "(60000,)"
      ]
     },
     "execution_count": 22,
     "metadata": {},
     "output_type": "execute_result"
    }
   ],
   "source": [
    "y_train.shape"
   ]
  },
  {
   "cell_type": "code",
   "execution_count": 23,
   "id": "577c56eb-d759-42e1-b665-e26b4c2cd1e7",
   "metadata": {},
   "outputs": [
    {
     "name": "stdout",
     "output_type": "stream",
     "text": [
      "Epoch 1/5\n",
      "1875/1875 [==============================] - 3s 1ms/step - loss: 0.4119 - accuracy: 0.8753\n",
      "Epoch 2/5\n",
      "1875/1875 [==============================] - 2s 1ms/step - loss: 0.1886 - accuracy: 0.9431\n",
      "Epoch 3/5\n",
      "1875/1875 [==============================] - 2s 1ms/step - loss: 0.1312 - accuracy: 0.9591\n",
      "Epoch 4/5\n",
      "1875/1875 [==============================] - 2s 1ms/step - loss: 0.1005 - accuracy: 0.9685\n",
      "Epoch 5/5\n",
      "1875/1875 [==============================] - 2s 1ms/step - loss: 0.0805 - accuracy: 0.9735\n"
     ]
    },
    {
     "data": {
      "text/plain": [
       "<tensorflow.python.keras.callbacks.History at 0x129385040>"
      ]
     },
     "execution_count": 23,
     "metadata": {},
     "output_type": "execute_result"
    }
   ],
   "source": [
    "model.fit(x_train,y_train, epochs = 5,batch_size=32\n",
    "         )"
   ]
  },
  {
   "cell_type": "code",
   "execution_count": 24,
   "id": "4f47c631-666a-4401-b179-9dda1d26b7de",
   "metadata": {},
   "outputs": [
    {
     "name": "stdout",
     "output_type": "stream",
     "text": [
      "313/313 [==============================] - 0s 435us/step - loss: 0.4722 - accuracy: 0.9648\n"
     ]
    },
    {
     "data": {
      "text/plain": [
       "[0.47217968106269836, 0.9648000001907349]"
      ]
     },
     "execution_count": 24,
     "metadata": {},
     "output_type": "execute_result"
    }
   ],
   "source": [
    "model.evaluate(x_test,y_test)"
   ]
  },
  {
   "cell_type": "markdown",
   "id": "fcaea281-e76f-45f1-abf0-01ca81815d52",
   "metadata": {},
   "source": [
    "## 11.1.4 그레디언트 클리핑"
   ]
  },
  {
   "cell_type": "code",
   "execution_count": 25,
   "id": "7da5cfef-f1f5-4eb3-9e04-34f5546b09cd",
   "metadata": {},
   "outputs": [],
   "source": [
    "optimizer = keras.optimizers.SGD(clipvalue  = 1.0) \n",
    "#-1 ~ 1 사이로 그레디언트를 클리핑함"
   ]
  },
  {
   "cell_type": "code",
   "execution_count": 26,
   "id": "8972fd20-1ef3-4bf6-abcd-60dbc2d22109",
   "metadata": {},
   "outputs": [],
   "source": [
    "optimizer = keras.optimizers.SGD(clipnorm = 1.0) \n",
    "#~1 ~ 1 사이로 그레디언트를 정규화"
   ]
  },
  {
   "cell_type": "markdown",
   "id": "421ce8d1-3606-4056-879e-a5716195688d",
   "metadata": {},
   "source": [
    "# 11.2 사전훈련 층 재사용"
   ]
  },
  {
   "cell_type": "markdown",
   "id": "1bbda75f-44e4-4bbf-9e00-d3e9ac1475da",
   "metadata": {},
   "source": [
    "#### 전이학습.\n",
    "\n",
    "비슷한 task 일수록 많은 층을 재사용.  \n",
    "아주 비슷하면 출력층만 교체해도 됨"
   ]
  },
  {
   "cell_type": "markdown",
   "id": "8157f35a-699a-4e58-9a30-c3615e5059d5",
   "metadata": {},
   "source": [
    "## 11.2.1 케라스를 사용한 전이 학습"
   ]
  },
  {
   "cell_type": "markdown",
   "id": "5112b83e-befc-45fe-875a-7ba2db664619",
   "metadata": {},
   "source": [
    "#### 원 모델 : 1~10 분류\n",
    "\n",
    "#### 전이학습 모델 : 5,not 5 이진 분류"
   ]
  },
  {
   "cell_type": "code",
   "execution_count": 27,
   "id": "24c2fcf1-c37a-4fdc-85d4-d6ba25074d85",
   "metadata": {},
   "outputs": [],
   "source": [
    "model.save(\"mnist_softmax_10.h5\")"
   ]
  },
  {
   "cell_type": "code",
   "execution_count": 28,
   "id": "8740af18-7308-4b00-9a72-5065f538359b",
   "metadata": {},
   "outputs": [],
   "source": [
    "model_A = keras.models.load_model(\"mnist_softmax_10.h5\")\n",
    "model_B_on_A = keras.models.Sequential(model_A.layers[:-1])\n",
    "model_B_on_A.add(keras.layers.Dense(1,activation = \"sigmoid\"))"
   ]
  },
  {
   "cell_type": "code",
   "execution_count": 29,
   "id": "d3b89293-902b-4568-8bf9-7ba7aad22940",
   "metadata": {},
   "outputs": [],
   "source": [
    "y_5_or_not = (y_train==5)"
   ]
  },
  {
   "cell_type": "markdown",
   "id": "82b0319e-910c-4263-bee8-3287c6a33461",
   "metadata": {},
   "source": [
    "#### 레이어를 가져온 모델도 함께 훈련되기 때문에 복사본을 확보"
   ]
  },
  {
   "cell_type": "code",
   "execution_count": 30,
   "id": "6858f131-e61d-4bfb-9739-9ce0ef9da3c6",
   "metadata": {},
   "outputs": [],
   "source": [
    "model_A_clone = keras.models.clone_model(model)\n",
    "model_A_clone.set_weights(model.get_weights())"
   ]
  },
  {
   "cell_type": "code",
   "execution_count": 31,
   "id": "7823e8f1-dcd4-4d46-b34e-49e9c014b631",
   "metadata": {},
   "outputs": [],
   "source": [
    "for layer in model_B_on_A.layers[:-1]:\n",
    "    layer.trainable = False"
   ]
  },
  {
   "cell_type": "code",
   "execution_count": 32,
   "id": "d2892d3e-78fa-4079-b26d-2fcfc07fd0fd",
   "metadata": {},
   "outputs": [
    {
     "name": "stdout",
     "output_type": "stream",
     "text": [
      "False\n",
      "False\n",
      "False\n",
      "False\n",
      "False\n",
      "False\n",
      "False\n",
      "False\n",
      "True\n"
     ]
    }
   ],
   "source": [
    "for l in model_B_on_A.layers:\n",
    "    print(l.trainable)"
   ]
  },
  {
   "cell_type": "code",
   "execution_count": 33,
   "id": "ecda68b6-6bb2-4e0c-aa4a-9bb8e1b6fec1",
   "metadata": {},
   "outputs": [],
   "source": [
    "model_B_on_A.compile(loss= keras.losses.binary_crossentropy,\n",
    "                    optimizer = \"sgd\",\n",
    "                    metrics = [\"accuracy\",keras.metrics.Precision()])"
   ]
  },
  {
   "cell_type": "code",
   "execution_count": 34,
   "id": "6dc793a7-9876-496f-9dfb-a3452130dae8",
   "metadata": {},
   "outputs": [
    {
     "name": "stdout",
     "output_type": "stream",
     "text": [
      "Epoch 1/10\n",
      "1500/1500 [==============================] - 1s 794us/step - loss: 0.3702 - accuracy: 0.8626 - precision: 0.4462 - val_loss: 0.1110 - val_accuracy: 0.9852 - val_precision: 0.9331\n",
      "Epoch 2/10\n",
      "1500/1500 [==============================] - 1s 576us/step - loss: 0.1074 - accuracy: 0.9844 - precision: 0.9172 - val_loss: 0.0770 - val_accuracy: 0.9888 - val_precision: 0.9521\n",
      "Epoch 3/10\n",
      "1500/1500 [==============================] - 1s 564us/step - loss: 0.0768 - accuracy: 0.9863 - precision: 0.9373 - val_loss: 0.0663 - val_accuracy: 0.9884 - val_precision: 0.9571\n",
      "Epoch 4/10\n",
      "1500/1500 [==============================] - 1s 578us/step - loss: 0.0708 - accuracy: 0.9875 - precision: 0.9487 - val_loss: 0.0567 - val_accuracy: 0.9895 - val_precision: 0.9559\n",
      "Epoch 5/10\n",
      "1500/1500 [==============================] - 1s 609us/step - loss: 0.0584 - accuracy: 0.9883 - precision: 0.9479 - val_loss: 0.0535 - val_accuracy: 0.9897 - val_precision: 0.9551\n",
      "Epoch 6/10\n",
      "1500/1500 [==============================] - 1s 563us/step - loss: 0.0549 - accuracy: 0.9882 - precision: 0.9483 - val_loss: 0.0494 - val_accuracy: 0.9898 - val_precision: 0.9603\n",
      "Epoch 7/10\n",
      "1500/1500 [==============================] - 1s 560us/step - loss: 0.0584 - accuracy: 0.9888 - precision: 0.9526 - val_loss: 0.0477 - val_accuracy: 0.9903 - val_precision: 0.9658\n",
      "Epoch 8/10\n",
      "1500/1500 [==============================] - 1s 558us/step - loss: 0.0482 - accuracy: 0.9896 - precision: 0.9550 - val_loss: 0.0456 - val_accuracy: 0.9903 - val_precision: 0.9632\n",
      "Epoch 9/10\n",
      "1500/1500 [==============================] - 1s 568us/step - loss: 0.0472 - accuracy: 0.9899 - precision: 0.9590 - val_loss: 0.0417 - val_accuracy: 0.9907 - val_precision: 0.9599\n",
      "Epoch 10/10\n",
      "1500/1500 [==============================] - 1s 570us/step - loss: 0.0430 - accuracy: 0.9901 - precision: 0.9580 - val_loss: 0.0427 - val_accuracy: 0.9905 - val_precision: 0.9624\n"
     ]
    }
   ],
   "source": [
    "history = model_B_on_A.fit(x_train,y_5_or_not,epochs=10,validation_split=0.2)"
   ]
  },
  {
   "cell_type": "code",
   "execution_count": 35,
   "id": "73bc5ee6-cf76-4634-8345-ad904395f2c5",
   "metadata": {},
   "outputs": [
    {
     "data": {
      "text/plain": [
       "dict_keys(['loss', 'accuracy', 'precision', 'val_loss', 'val_accuracy', 'val_precision'])"
      ]
     },
     "execution_count": 35,
     "metadata": {},
     "output_type": "execute_result"
    }
   ],
   "source": [
    "history.history.keys()"
   ]
  },
  {
   "cell_type": "code",
   "execution_count": 36,
   "id": "b9726f44-0c61-41e5-bba9-e726c91acc11",
   "metadata": {},
   "outputs": [
    {
     "data": {
      "text/plain": [
       "<AxesSubplot:>"
      ]
     },
     "execution_count": 36,
     "metadata": {},
     "output_type": "execute_result"
    },
    {
     "data": {
      "image/png": "[encoded data removed]",
      "text/plain": [
       "<Figure size 432x288 with 1 Axes>"
      ]
     },
     "metadata": {
      "needs_background": "light"
     },
     "output_type": "display_data"
    }
   ],
   "source": [
    "pd.DataFrame(history.history['val_loss']).plot()"
   ]
  },
  {
   "cell_type": "code",
   "execution_count": 37,
   "id": "8c59f29a-88ef-4363-9886-fcafcf79b9bd",
   "metadata": {},
   "outputs": [
    {
     "name": "stdout",
     "output_type": "stream",
     "text": [
      "313/313 [==============================] - 0s 578us/step - loss: 0.0538 - accuracy: 0.9889 - precision: 0.9525\n"
     ]
    },
    {
     "data": {
      "text/plain": [
       "[0.053844764828681946, 0.9889000058174133, 0.952491283416748]"
      ]
     },
     "execution_count": 37,
     "metadata": {},
     "output_type": "execute_result"
    }
   ],
   "source": [
    "model_B_on_A.evaluate(x_test, (y_test==5))"
   ]
  },
  {
   "cell_type": "code",
   "execution_count": 38,
   "id": "8ff95d61-0760-49d6-858d-5e9eb15ebec8",
   "metadata": {},
   "outputs": [
    {
     "name": "stderr",
     "output_type": "stream",
     "text": [
      "/opt/homebrew/Caskroom/miniforge/base/envs/m1/lib/python3.8/site-packages/tensorflow/python/keras/engine/sequential.py:450: UserWarning: `model.predict_classes()` is deprecated and will be removed after 2021-01-01. Please use instead:* `np.argmax(model.predict(x), axis=-1)`,   if your model does multi-class classification   (e.g. if it uses a `softmax` last-layer activation).* `(model.predict(x) > 0.5).astype(\"int32\")`,   if your model does binary classification   (e.g. if it uses a `sigmoid` last-layer activation).\n",
      "  warnings.warn('`model.predict_classes()` is deprecated and '\n"
     ]
    }
   ],
   "source": [
    "predict = model_B_on_A.predict_classes(x_test[:10])"
   ]
  },
  {
   "cell_type": "code",
   "execution_count": 39,
   "id": "795efd9d-adca-48ca-ab2a-50fde0b199a9",
   "metadata": {},
   "outputs": [
    {
     "name": "stdout",
     "output_type": "stream",
     "text": [
      "[0 0 0 0 0 0 0 0 1 0]\n",
      "[False False False ... False  True False]\n",
      "100.0 %\n"
     ]
    }
   ],
   "source": [
    "predict = predict.flatten()\n",
    "cnt = 0\n",
    "for index in range(len(predict)):\n",
    "    if predict[index] == (y_test==5)[index]:\n",
    "            cnt += 1\n",
    "print(predict)\n",
    "print(y_test==5)\n",
    "print(cnt/len(predict)* 100, \"%\")"
   ]
  },
  {
   "cell_type": "code",
   "execution_count": 40,
   "id": "c5d1dcef-5888-4091-9232-bda4a4dc1187",
   "metadata": {},
   "outputs": [],
   "source": [
    "for layer in model_B_on_A.layers[:-1]:\n",
    "    layer.trainable = True"
   ]
  },
  {
   "cell_type": "code",
   "execution_count": 41,
   "id": "3f43f8e6-6fdf-45c0-a9be-27c8e6d5834f",
   "metadata": {},
   "outputs": [
    {
     "name": "stdout",
     "output_type": "stream",
     "text": [
      "True\n",
      "True\n",
      "True\n",
      "True\n",
      "True\n",
      "True\n",
      "True\n",
      "True\n",
      "True\n"
     ]
    }
   ],
   "source": [
    "for l in model_B_on_A.layers:\n",
    "    print(l.trainable)"
   ]
  },
  {
   "cell_type": "code",
   "execution_count": 42,
   "id": "fbb285d3-4ff5-4eb0-b496-ddb45a2e2c5c",
   "metadata": {},
   "outputs": [],
   "source": [
    "model_B_on_A.compile(loss = keras.losses.binary_crossentropy,\n",
    "                    optimizer = 'adam',\n",
    "                    metrics = ['accuracy',keras.metrics.Precision()])"
   ]
  },
  {
   "cell_type": "code",
   "execution_count": 43,
   "id": "0a986021-6161-4324-9efe-808d39e5675a",
   "metadata": {},
   "outputs": [
    {
     "name": "stdout",
     "output_type": "stream",
     "text": [
      "Epoch 1/10\n",
      "1500/1500 [==============================] - 3s 1ms/step - loss: 0.0297 - accuracy: 0.9908 - precision_1: 0.9561 - val_loss: 0.0637 - val_accuracy: 0.9911 - val_precision_1: 0.9451\n",
      "Epoch 2/10\n",
      "1500/1500 [==============================] - 2s 1ms/step - loss: 0.0200 - accuracy: 0.9934 - precision_1: 0.9711 - val_loss: 0.0533 - val_accuracy: 0.9914 - val_precision_1: 0.9502\n",
      "Epoch 3/10\n",
      "1500/1500 [==============================] - 2s 1ms/step - loss: 0.0141 - accuracy: 0.9947 - precision_1: 0.9752 - val_loss: 0.1046 - val_accuracy: 0.9904 - val_precision_1: 0.9376\n",
      "Epoch 4/10\n",
      "1500/1500 [==============================] - 2s 1ms/step - loss: 0.0111 - accuracy: 0.9963 - precision_1: 0.9849 - val_loss: 0.0998 - val_accuracy: 0.9912 - val_precision_1: 0.9397\n",
      "Epoch 5/10\n",
      "1500/1500 [==============================] - 2s 1ms/step - loss: 0.0094 - accuracy: 0.9968 - precision_1: 0.9842 - val_loss: 0.0742 - val_accuracy: 0.9890 - val_precision_1: 0.9142\n",
      "Epoch 6/10\n",
      "1500/1500 [==============================] - 2s 1ms/step - loss: 0.0104 - accuracy: 0.9962 - precision_1: 0.9805 - val_loss: 0.1051 - val_accuracy: 0.9887 - val_precision_1: 0.9139\n",
      "Epoch 7/10\n",
      "1500/1500 [==============================] - 2s 1ms/step - loss: 0.0066 - accuracy: 0.9978 - precision_1: 0.9861 - val_loss: 0.0804 - val_accuracy: 0.9916 - val_precision_1: 0.9594\n",
      "Epoch 8/10\n",
      "1500/1500 [==============================] - 2s 1ms/step - loss: 0.0053 - accuracy: 0.9983 - precision_1: 0.9919 - val_loss: 0.1542 - val_accuracy: 0.9915 - val_precision_1: 0.9414\n",
      "Epoch 9/10\n",
      "1500/1500 [==============================] - 2s 1ms/step - loss: 0.0060 - accuracy: 0.9981 - precision_1: 0.9905 - val_loss: 0.1330 - val_accuracy: 0.9889 - val_precision_1: 0.9455\n",
      "Epoch 10/10\n",
      "1500/1500 [==============================] - 2s 1ms/step - loss: 0.0067 - accuracy: 0.9980 - precision_1: 0.9906 - val_loss: 0.1249 - val_accuracy: 0.9912 - val_precision_1: 0.9452\n"
     ]
    }
   ],
   "source": [
    "history = model_B_on_A.fit(x_train,y_5_or_not,epochs=10,\n",
    "                          validation_split=0.2)"
   ]
  },
  {
   "cell_type": "code",
   "execution_count": 44,
   "id": "1e664c7a-12bf-44a0-a2e1-441bd86c32e8",
   "metadata": {},
   "outputs": [
    {
     "data": {
      "text/plain": [
       "<AxesSubplot:>"
      ]
     },
     "execution_count": 44,
     "metadata": {},
     "output_type": "execute_result"
    },
    {
     "data": {
      "image/png": "[encoded data removed]",
      "text/plain": [
       "<Figure size 432x288 with 1 Axes>"
      ]
     },
     "metadata": {
      "needs_background": "light"
     },
     "output_type": "display_data"
    }
   ],
   "source": [
    "pd.DataFrame(history.history['val_loss']).plot()\n",
    "#다 열어서 하니깐 오버피팅"
   ]
  },
  {
   "cell_type": "code",
   "execution_count": 45,
   "id": "cce51a40-7382-43dd-9338-8f5d31886013",
   "metadata": {},
   "outputs": [
    {
     "name": "stderr",
     "output_type": "stream",
     "text": [
      "/opt/homebrew/Caskroom/miniforge/base/envs/m1/lib/python3.8/site-packages/tensorflow/python/keras/engine/sequential.py:450: UserWarning: `model.predict_classes()` is deprecated and will be removed after 2021-01-01. Please use instead:* `np.argmax(model.predict(x), axis=-1)`,   if your model does multi-class classification   (e.g. if it uses a `softmax` last-layer activation).* `(model.predict(x) > 0.5).astype(\"int32\")`,   if your model does binary classification   (e.g. if it uses a `sigmoid` last-layer activation).\n",
      "  warnings.warn('`model.predict_classes()` is deprecated and '\n"
     ]
    }
   ],
   "source": [
    "predict = model_B_on_A.predict_classes(x_test[:10])"
   ]
  },
  {
   "cell_type": "code",
   "execution_count": 46,
   "id": "62f2fb3c-908f-4e1b-aad0-2adb9d98a281",
   "metadata": {},
   "outputs": [
    {
     "name": "stdout",
     "output_type": "stream",
     "text": [
      "[0 0 0 0 0 0 0 0 1 0]\n",
      "[False False False ... False  True False]\n",
      "100.0 %\n"
     ]
    }
   ],
   "source": [
    "predict = predict.flatten()\n",
    "cnt = 0\n",
    "for index in range(len(predict)):\n",
    "    if predict[index] == (y_test==5)[index]:\n",
    "            cnt += 1\n",
    "print(predict)\n",
    "print(y_test==5)\n",
    "print(cnt/len(predict)* 100, \"%\")"
   ]
  },
  {
   "cell_type": "code",
   "execution_count": 47,
   "id": "7a92ae97-da78-424d-aa43-370ceb3f476b",
   "metadata": {},
   "outputs": [
    {
     "name": "stdout",
     "output_type": "stream",
     "text": [
      "313/313 [==============================] - 0s 581us/step - loss: 0.0608 - accuracy: 0.9926 - precision_1: 0.9504\n"
     ]
    },
    {
     "data": {
      "text/plain": [
       "[0.06075865402817726, 0.9926000237464905, 0.950440526008606]"
      ]
     },
     "execution_count": 47,
     "metadata": {},
     "output_type": "execute_result"
    }
   ],
   "source": [
    "model_B_on_A.evaluate(x_test, (y_test==5))\n",
    "#전이학습은 모든 경우에서 좋지는 않음."
   ]
  },
  {
   "cell_type": "markdown",
   "id": "9d2db51d-a8f6-4677-8a5c-466c051cf786",
   "metadata": {},
   "source": [
    "# 11.3 고속 옵티마이저"
   ]
  },
  {
   "cell_type": "markdown",
   "id": "5c73deda-a95f-4f54-8bad-918be31eac5b",
   "metadata": {},
   "source": [
    "## 11.3.1 모멘텀 최적화"
   ]
  },
  {
   "cell_type": "code",
   "execution_count": 48,
   "id": "9f5579e8-caca-4635-b048-8eb982ff16db",
   "metadata": {},
   "outputs": [],
   "source": [
    "#그레디언트를 속도가 아닌 가속도로 이용\n",
    "optimzer = keras.optimizers.SGD(lr = 0.001, momentum = 0.9)"
   ]
  },
  {
   "cell_type": "markdown",
   "id": "19dfd12d-f0b1-41ce-a0c3-1111d50857e1",
   "metadata": {},
   "source": [
    "## 11.3.2 네스테로프 모멘텀 최적화"
   ]
  },
  {
   "cell_type": "code",
   "execution_count": 49,
   "id": "e0768695-57b3-41f3-849a-2fa580a3ce38",
   "metadata": {},
   "outputs": [],
   "source": [
    "#모멘텀 방향으로 조금 앞선 위치에서 그레디언트 계산\n",
    "optimizer = keras.optimizers.SGD(lr = 0.001, momentum= 0.9, nesterov=True)"
   ]
  },
  {
   "cell_type": "markdown",
   "id": "bb71c271-5a06-4b6f-8ec1-608401679bf3",
   "metadata": {},
   "source": [
    "## 11.3.3 AdaGrad"
   ]
  },
  {
   "cell_type": "code",
   "execution_count": 50,
   "id": "539e3e35-bc56-4f40-abd1-7fa8a15d80b1",
   "metadata": {},
   "outputs": [],
   "source": [
    "#진행 방향으로 편미분 제곱값을 누적하여 스케일 구함.\n",
    "#업데이트 시 스케일로 나누어줌. --> 편미분값 클수록(스케일 클수록) 더 규제받음\n",
    "#너무 빨리 멈추는 경향이 있어 심층신경망 보다는 간단한 모델에 사용하는 것을 추천\n",
    "optimizer = keras.optimizers.Adagrad()"
   ]
  },
  {
   "cell_type": "markdown",
   "id": "5073f181-c706-45ca-96da-f28bd1795d02",
   "metadata": {},
   "source": [
    "## 11.3.4 RMSProp"
   ]
  },
  {
   "cell_type": "code",
   "execution_count": 51,
   "id": "22e7f139-1a2c-4e14-afc9-07db72ef0eba",
   "metadata": {},
   "outputs": [],
   "source": [
    "#너무 빨리 느려지는 AdaGrad의 단점을 극복\n",
    "#최근 n개의 그레디언트만 누적하여 나누어줌\n",
    "optimizer = keras.optimizers.RMSprop(rho=0.9)"
   ]
  },
  {
   "cell_type": "markdown",
   "id": "ac3df6ad-4d07-4557-bce8-52cfdad88c93",
   "metadata": {},
   "source": [
    "## 11.3.5 Adam, Nadam"
   ]
  },
  {
   "cell_type": "code",
   "execution_count": 52,
   "id": "f28b5213-a32b-4c8c-806b-737354a43a22",
   "metadata": {},
   "outputs": [],
   "source": [
    "#Adam = Momentom + RMSprop\n",
    "optimizer = keras.optimizers.Adam(lr = 0.001, beta_1=0.9,beta_2=0.999)"
   ]
  },
  {
   "cell_type": "code",
   "execution_count": 53,
   "id": "42670735-62f9-42e3-97fc-bbea5071a582",
   "metadata": {},
   "outputs": [],
   "source": [
    "#Adam + nestrov\n",
    "optimizer = keras.optimizers.Nadam(lr = 0.001, beta_1=0.9,beta_2=0.999)"
   ]
  },
  {
   "cell_type": "markdown",
   "id": "9c7165db-7f99-4f01-810d-c19fe27c9647",
   "metadata": {},
   "source": [
    "## 11.3.6 학습률 스케줄링"
   ]
  },
  {
   "cell_type": "markdown",
   "id": "187e403e-3a8e-40b5-a9b9-924e9cdb1464",
   "metadata": {},
   "source": [
    "#### 거듭제곱 기반"
   ]
  },
  {
   "cell_type": "code",
   "execution_count": 54,
   "id": "9ad94b30-100a-42cb-b375-18ad36d24293",
   "metadata": {},
   "outputs": [],
   "source": [
    "#lr = lr / (1+t/s)^c\n",
    "#c는 일반적으로 1.\n",
    "#t= s일때 1/2만큼 줄어듦.\n",
    "optimizer = keras.optimizers.SGD(lr=0.01, decay = 1e-4) \n",
    "#decay = 1/s"
   ]
  },
  {
   "cell_type": "markdown",
   "id": "239a4bf9-acfe-40e9-90e4-f0298bd6fa25",
   "metadata": {},
   "source": [
    "#### 지수 기반"
   ]
  },
  {
   "cell_type": "code",
   "execution_count": 55,
   "id": "9fd0a39b-2a83-43a5-b2ae-387cd84f90bf",
   "metadata": {},
   "outputs": [],
   "source": [
    "def exponential_decay(epoch):\n",
    "    return 0.01 * 0.1**(epoch/20) \n",
    "#20에폭마다 0.1 씩 감소."
   ]
  },
  {
   "cell_type": "code",
   "execution_count": 56,
   "id": "f3a499f3-78a9-4766-be09-280103a8be39",
   "metadata": {},
   "outputs": [],
   "source": [
    "#콜백으로 케라스 모델에 추가.\n",
    "exponential_decay_callback = keras.callbacks.LearningRateScheduler(exponential_decay)\n",
    "# 에폭단위가 일반적이고 지수기반이 일반적이니깐 이방법을 사용하는게 좋아보임."
   ]
  },
  {
   "cell_type": "markdown",
   "id": "10a6ab54-6bd1-4d9a-b556-fdf31bcfa1c3",
   "metadata": {},
   "source": [
    "# 11.4 규제를 사용해 과대적합 피하기"
   ]
  },
  {
   "cell_type": "markdown",
   "id": "f0eea63d-9bfc-485a-a9b6-68174c8a6e21",
   "metadata": {},
   "source": [
    "## 11.4.1 L1, L2 규제"
   ]
  },
  {
   "cell_type": "markdown",
   "id": "43711edb-7749-4bea-869d-bc57cc611bcf",
   "metadata": {},
   "source": [
    "#### l1"
   ]
  },
  {
   "cell_type": "code",
   "execution_count": 57,
   "id": "8353a60c-bb3c-4b99-83bc-4fc440d58c0e",
   "metadata": {},
   "outputs": [],
   "source": [
    "layer  = keras.layers.Dense(1, activation = \"selu\",\n",
    "                           kernel_initializer = \"lecun_normal\",\n",
    "                           kernel_regularizer = keras.regularizers.l1(0.01))"
   ]
  },
  {
   "cell_type": "markdown",
   "id": "54b16f8b-da86-411b-abeb-1a7bea50493b",
   "metadata": {},
   "source": [
    "#### l2"
   ]
  },
  {
   "cell_type": "code",
   "execution_count": 58,
   "id": "359b36e1-652a-49c7-82f1-8fbdf24038be",
   "metadata": {},
   "outputs": [],
   "source": [
    "layer  = keras.layers.Dense(1, activation = \"selu\",\n",
    "                           kernel_initializer = \"lecun_normal\",\n",
    "                           kernel_regularizer = keras.regularizers.l2(0.01))"
   ]
  },
  {
   "cell_type": "markdown",
   "id": "3bc63884-e53f-4316-83be-c91801c3cb9c",
   "metadata": {},
   "source": [
    "## 11.4.2 드롭아웃"
   ]
  },
  {
   "cell_type": "code",
   "execution_count": 6,
   "id": "16dce296-ddea-4cad-b96d-58c4eded475e",
   "metadata": {},
   "outputs": [],
   "source": [
    "model = keras.models.Sequential([\n",
    "    keras.layers.Flatten(input_shape  = [28,28]),\n",
    "    keras.layers.Dropout(rate = 0.2),\n",
    "    keras.layers.Dense(300,activation = 'relu'),\n",
    "    keras.layers.Dropout(rate = 0.2),\n",
    "    keras.layers.Dense(100,activation = 'relu'),\n",
    "    keras.layers.Dropout(rate = 0.2),\n",
    "    keras.layers.Dense(10, activation = 'softmax')\n",
    "   \n",
    "])"
   ]
  },
  {
   "cell_type": "code",
   "execution_count": 7,
   "id": "629a8290-579d-4adc-b5e1-18e53c805619",
   "metadata": {},
   "outputs": [],
   "source": [
    "model.compile(loss= keras.losses.sparse_categorical_crossentropy,\n",
    "             optimizer = keras.optimizers.Adam(0.001),\n",
    "             metrics = ['accuracy'])"
   ]
  },
  {
   "cell_type": "code",
   "execution_count": 8,
   "id": "23c1e0c4-9c1d-4aaf-adff-76f21b47ac1a",
   "metadata": {},
   "outputs": [
    {
     "name": "stdout",
     "output_type": "stream",
     "text": [
      "Epoch 1/10\n",
      "750/750 [==============================] - 1s 910us/step - loss: 33.5371 - accuracy: 0.7043 - val_loss: 3.8966 - val_accuracy: 0.9399\n",
      "Epoch 2/10\n",
      "750/750 [==============================] - 1s 796us/step - loss: 7.7483 - accuracy: 0.8830 - val_loss: 1.1110 - val_accuracy: 0.9542\n",
      "Epoch 3/10\n",
      "750/750 [==============================] - 1s 786us/step - loss: 2.5794 - accuracy: 0.8912 - val_loss: 0.7665 - val_accuracy: 0.9487\n",
      "Epoch 4/10\n",
      "750/750 [==============================] - 1s 783us/step - loss: 1.2848 - accuracy: 0.8970 - val_loss: 0.4379 - val_accuracy: 0.9530\n",
      "Epoch 5/10\n",
      "750/750 [==============================] - 1s 779us/step - loss: 0.9044 - accuracy: 0.8959 - val_loss: 0.4428 - val_accuracy: 0.9498\n",
      "Epoch 6/10\n",
      "750/750 [==============================] - 1s 780us/step - loss: 0.9451 - accuracy: 0.8979 - val_loss: 0.4335 - val_accuracy: 0.9498\n",
      "Epoch 7/10\n",
      "750/750 [==============================] - 1s 800us/step - loss: 0.7526 - accuracy: 0.9060 - val_loss: 0.3785 - val_accuracy: 0.9559\n",
      "Epoch 8/10\n",
      "750/750 [==============================] - 1s 808us/step - loss: 0.7282 - accuracy: 0.9106 - val_loss: 0.4537 - val_accuracy: 0.9476\n",
      "Epoch 9/10\n",
      "750/750 [==============================] - 1s 787us/step - loss: 0.6968 - accuracy: 0.9144 - val_loss: 0.5778 - val_accuracy: 0.9537\n",
      "Epoch 10/10\n",
      "750/750 [==============================] - 1s 815us/step - loss: 0.8630 - accuracy: 0.9110 - val_loss: 0.3542 - val_accuracy: 0.9610\n"
     ]
    }
   ],
   "source": [
    "history = model.fit(x_train,y_train, validation_split=0.2,epochs = 10,batch_size= 64)"
   ]
  },
  {
   "cell_type": "code",
   "execution_count": 9,
   "id": "8d2f58b1-18a9-4e5e-9b1a-7169890f4c35",
   "metadata": {},
   "outputs": [
    {
     "data": {
      "text/plain": [
       "<AxesSubplot:>"
      ]
     },
     "execution_count": 9,
     "metadata": {},
     "output_type": "execute_result"
    },
    {
     "data": {
      "image/png": "[encoded data removed]",
      "text/plain": [
       "<Figure size 432x288 with 1 Axes>"
      ]
     },
     "metadata": {
      "needs_background": "light"
     },
     "output_type": "display_data"
    }
   ],
   "source": [
    "pd.DataFrame(history.history).plot()"
   ]
  },
  {
   "cell_type": "code",
   "execution_count": 10,
   "id": "434bfd3f-3574-447d-bb57-0370a29031ae",
   "metadata": {},
   "outputs": [
    {
     "name": "stdout",
     "output_type": "stream",
     "text": [
      "313/313 [==============================] - 0s 315us/step - loss: 0.3844 - accuracy: 0.9604\n"
     ]
    },
    {
     "data": {
      "text/plain": [
       "[0.3844057023525238, 0.9603999853134155]"
      ]
     },
     "execution_count": 10,
     "metadata": {},
     "output_type": "execute_result"
    }
   ],
   "source": [
    "model.evaluate(x_test,y_test)"
   ]
  },
  {
   "cell_type": "markdown",
   "id": "35a1b465-c644-4bf9-baa7-5512337fc655",
   "metadata": {},
   "source": [
    "## 11.4.3 몬테 카를로 드롭아웃"
   ]
  },
  {
   "cell_type": "markdown",
   "id": "027c8400-e917-441a-b9db-9ea3ac0075b7",
   "metadata": {},
   "source": [
    "일반 드롭아웃 : 훈련시에만 드롭아웃 적용. 예측은 하나의 모델로,  \n",
    "MC 드롭아웃  : 예측시에도 드롭아웃을 활용하여 n 번예측, 에측에 대한 확률값 얻을수있음.  \n",
    "training = True 로 하여 적용가능\n"
   ]
  },
  {
   "cell_type": "code",
   "execution_count": 11,
   "id": "3bcfcf8f-986d-44d1-9d07-76c4390c9855",
   "metadata": {},
   "outputs": [],
   "source": [
    "y_probas = np.stack([model(x_test, training = True)\n",
    "                    for sample in range(100)])\n",
    "\n",
    "y_proba = y_probas.mean(axis = 0)"
   ]
  },
  {
   "cell_type": "code",
   "execution_count": 12,
   "id": "3ef2e9d5-44a4-43fc-a9af-4853085a7ed3",
   "metadata": {},
   "outputs": [
    {
     "data": {
      "text/plain": [
       "(10000, 10)"
      ]
     },
     "execution_count": 12,
     "metadata": {},
     "output_type": "execute_result"
    }
   ],
   "source": [
    "y_proba.shape"
   ]
  },
  {
   "cell_type": "markdown",
   "id": "20aaad89-2998-4156-aff1-d3150b7871be",
   "metadata": {},
   "source": [
    "#### 첫번째 테스트 샘플의 평균예측"
   ]
  },
  {
   "cell_type": "code",
   "execution_count": 25,
   "id": "539a7476-11fe-4c29-99c3-d1d5b22c7412",
   "metadata": {},
   "outputs": [
    {
     "data": {
      "text/plain": [
       "array([0., 0., 0., 0., 0., 0., 0., 1., 0., 0.], dtype=float32)"
      ]
     },
     "execution_count": 25,
     "metadata": {},
     "output_type": "execute_result"
    }
   ],
   "source": [
    "np.round(y_proba[0],2)"
   ]
  },
  {
   "cell_type": "markdown",
   "id": "8ba3825e-de18-4e46-baa1-907c27ce6fc4",
   "metadata": {},
   "source": [
    "#### 분산 : 불확실성"
   ]
  },
  {
   "cell_type": "code",
   "execution_count": 24,
   "id": "8d26cadd-ae36-4c1b-a78a-a67f4b6d33d7",
   "metadata": {},
   "outputs": [
    {
     "data": {
      "text/plain": [
       "array([[0.0000000e+00, 0.0000000e+00, 0.0000000e+00, ..., 0.0000000e+00,\n",
       "        0.0000000e+00, 0.0000000e+00],\n",
       "       [0.0000000e+00, 0.0000000e+00, 0.0000000e+00, ..., 0.0000000e+00,\n",
       "        0.0000000e+00, 0.0000000e+00],\n",
       "       [0.0000000e+00, 0.0000000e+00, 0.0000000e+00, ..., 0.0000000e+00,\n",
       "        0.0000000e+00, 0.0000000e+00],\n",
       "       ...,\n",
       "       [0.0000000e+00, 0.0000000e+00, 0.0000000e+00, ..., 0.0000000e+00,\n",
       "        0.0000000e+00, 0.0000000e+00],\n",
       "       [0.0000000e+00, 0.0000000e+00, 0.0000000e+00, ..., 0.0000000e+00,\n",
       "        7.1054274e-15, 0.0000000e+00],\n",
       "       [0.0000000e+00, 0.0000000e+00, 0.0000000e+00, ..., 0.0000000e+00,\n",
       "        0.0000000e+00, 0.0000000e+00]], dtype=float32)"
      ]
     },
     "execution_count": 24,
     "metadata": {},
     "output_type": "execute_result"
    }
   ],
   "source": [
    "y_std = y_probas.std(axis=0)\n",
    "y_std"
   ]
  },
  {
   "cell_type": "markdown",
   "id": "5d528ad6-40f5-44b6-a2b2-0492ec023cc1",
   "metadata": {},
   "source": [
    "## 11.4.4 max-norm 규제 "
   ]
  },
  {
   "cell_type": "markdown",
   "id": "56dc1360-0c48-496c-a4d9-d7b08a323a0e",
   "metadata": {},
   "source": [
    "가중치 w 의 노름 <=r 이 되도록 제한"
   ]
  },
  {
   "cell_type": "code",
   "execution_count": 26,
   "id": "1ed65eb5-6853-45bd-9eda-b44919c1d335",
   "metadata": {},
   "outputs": [
    {
     "data": {
      "text/plain": [
       "<tensorflow.python.keras.layers.core.Dense at 0x1393b0610>"
      ]
     },
     "execution_count": 26,
     "metadata": {},
     "output_type": "execute_result"
    }
   ],
   "source": [
    "keras.layers.Dense(100, activation ='elu', kernel_initializer = 'he_normal',\n",
    "                  kernel_constraint = keras.constraints.max_norm(1.))"
   ]
  },
  {
   "cell_type": "code",
   "execution_count": null,
   "id": "4cc0aa89-3843-413e-a446-79e48844cf41",
   "metadata": {},
   "outputs": [],
   "source": []
  }
 ],
 "metadata": {
  "kernelspec": {
   "display_name": "m1",
   "language": "python",
   "name": "m1"
  },
  "language_info": {
   "codemirror_mode": {
    "name": "ipython",
    "version": 3
   },
   "file_extension": ".py",
   "mimetype": "text/x-python",
   "name": "python",
   "nbconvert_exporter": "python",
   "pygments_lexer": "ipython3",
   "version": "3.8.10"
  }
 },
 "nbformat": 4,
 "nbformat_minor": 5
}
