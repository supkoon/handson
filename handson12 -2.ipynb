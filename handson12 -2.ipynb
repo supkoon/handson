{
 "cells": [
  {
   "cell_type": "code",
   "execution_count": 1,
   "id": "f3f3ec2d-6c65-432b-8148-e9cb81037a45",
   "metadata": {},
   "outputs": [],
   "source": [
    "import tensorflow as tf\n",
    "import numpy as np\n",
    "import pandas as pd\n",
    "from tensorflow import keras"
   ]
  },
  {
   "cell_type": "markdown",
   "id": "dc6e382e-1588-4ade-b08b-5167fe76d7a6",
   "metadata": {},
   "source": [
    "# 12.2 넘파이처럼 텐서플로 사용하기"
   ]
  },
  {
   "cell_type": "markdown",
   "id": "cdcc7554-e37c-4fea-8cf0-bf6d3ecab269",
   "metadata": {},
   "source": [
    "## 12.2.1 텐서와 연산"
   ]
  },
  {
   "cell_type": "code",
   "execution_count": 14,
   "id": "32b06f01-d1ec-4e76-9777-95a6e7752e17",
   "metadata": {},
   "outputs": [
    {
     "data": {
      "text/plain": [
       "<tf.Tensor: shape=(2, 3), dtype=float32, numpy=\n",
       "array([[1., 2., 3.],\n",
       "       [4., 5., 6.]], dtype=float32)>"
      ]
     },
     "execution_count": 14,
     "metadata": {},
     "output_type": "execute_result"
    }
   ],
   "source": [
    "tf.constant([[1.,2.,3.],[4.,5.,6.]])"
   ]
  },
  {
   "cell_type": "code",
   "execution_count": 15,
   "id": "adb51615-846e-4a92-a1f2-cf9666714420",
   "metadata": {},
   "outputs": [
    {
     "data": {
      "text/plain": [
       "<tf.Tensor: shape=(), dtype=int32, numpy=42>"
      ]
     },
     "execution_count": 15,
     "metadata": {},
     "output_type": "execute_result"
    }
   ],
   "source": [
    "tf.constant(42)"
   ]
  },
  {
   "cell_type": "code",
   "execution_count": 45,
   "id": "a7f6c2e5-1d53-4d3f-b25f-439aa7bc0532",
   "metadata": {},
   "outputs": [
    {
     "name": "stdout",
     "output_type": "stream",
     "text": [
      "(2, 3) \n",
      " <dtype: 'float32'>\n"
     ]
    }
   ],
   "source": [
    "t = tf.constant([[1.,2.,3.],[4.,5.,6.]])\n",
    "print(t.shape,\"\\n\", t.dtype)"
   ]
  },
  {
   "cell_type": "code",
   "execution_count": 17,
   "id": "e0432429-3dd9-4467-a502-cbfca18930b8",
   "metadata": {},
   "outputs": [
    {
     "data": {
      "text/plain": [
       "<tf.Tensor: shape=(2, 2), dtype=float32, numpy=\n",
       "array([[2., 3.],\n",
       "       [5., 6.]], dtype=float32)>"
      ]
     },
     "execution_count": 17,
     "metadata": {},
     "output_type": "execute_result"
    }
   ],
   "source": [
    "t[:,1:]"
   ]
  },
  {
   "cell_type": "code",
   "execution_count": 18,
   "id": "2865765f-2257-46ad-8934-b5cc7921f454",
   "metadata": {},
   "outputs": [
    {
     "data": {
      "text/plain": [
       "<tf.Tensor: shape=(2, 1), dtype=float32, numpy=\n",
       "array([[2.],\n",
       "       [5.]], dtype=float32)>"
      ]
     },
     "execution_count": 18,
     "metadata": {},
     "output_type": "execute_result"
    }
   ],
   "source": [
    "t[:,1,tf.newaxis]"
   ]
  },
  {
   "cell_type": "code",
   "execution_count": 19,
   "id": "7d79e4d6-46b3-457b-81ed-8708ee792d54",
   "metadata": {},
   "outputs": [
    {
     "data": {
      "text/plain": [
       "<tf.Tensor: shape=(2, 3), dtype=float32, numpy=\n",
       "array([[11., 12., 13.],\n",
       "       [14., 15., 16.]], dtype=float32)>"
      ]
     },
     "execution_count": 19,
     "metadata": {},
     "output_type": "execute_result"
    }
   ],
   "source": [
    "t+10"
   ]
  },
  {
   "cell_type": "code",
   "execution_count": 20,
   "id": "8fc0646c-210b-463d-8561-a562573d812f",
   "metadata": {},
   "outputs": [
    {
     "data": {
      "text/plain": [
       "<tf.Tensor: shape=(2, 3), dtype=float32, numpy=\n",
       "array([[ 1.,  4.,  9.],\n",
       "       [16., 25., 36.]], dtype=float32)>"
      ]
     },
     "execution_count": 20,
     "metadata": {},
     "output_type": "execute_result"
    }
   ],
   "source": [
    "tf.square(t)"
   ]
  },
  {
   "cell_type": "code",
   "execution_count": 21,
   "id": "948adda6-fa8b-4188-98e7-5d947eecb82b",
   "metadata": {},
   "outputs": [
    {
     "data": {
      "text/plain": [
       "<tf.Tensor: shape=(2, 2), dtype=float32, numpy=\n",
       "array([[14., 32.],\n",
       "       [32., 77.]], dtype=float32)>"
      ]
     },
     "execution_count": 21,
     "metadata": {},
     "output_type": "execute_result"
    }
   ],
   "source": [
    "tf.matmul(t,tf.transpose(t))"
   ]
  },
  {
   "cell_type": "markdown",
   "id": "22ec3f09-63ac-4f7d-b2db-76ffda529b40",
   "metadata": {},
   "source": [
    "## 12.2.2 텐서와 넘파이"
   ]
  },
  {
   "cell_type": "markdown",
   "id": "7b6f5997-130e-4d15-9bbc-8fb498de78a7",
   "metadata": {},
   "source": [
    " 상호 변환, 상호 연산 적용이 자유롭다"
   ]
  },
  {
   "cell_type": "code",
   "execution_count": 22,
   "id": "27aceb27-d409-4828-80cb-4a389d50974b",
   "metadata": {},
   "outputs": [],
   "source": [
    "a = np.array([2.,4.,5.])"
   ]
  },
  {
   "cell_type": "code",
   "execution_count": 23,
   "id": "b782d1c1-c85f-4207-84a6-15b7e016d709",
   "metadata": {},
   "outputs": [
    {
     "data": {
      "text/plain": [
       "<tf.Tensor: shape=(3,), dtype=float64, numpy=array([2., 4., 5.])>"
      ]
     },
     "execution_count": 23,
     "metadata": {},
     "output_type": "execute_result"
    }
   ],
   "source": [
    "t = tf.constant(a)\n",
    "t"
   ]
  },
  {
   "cell_type": "code",
   "execution_count": 24,
   "id": "888188e2-4d96-444e-94cc-bf54be969ff8",
   "metadata": {},
   "outputs": [
    {
     "data": {
      "text/plain": [
       "array([2., 4., 5.])"
      ]
     },
     "execution_count": 24,
     "metadata": {},
     "output_type": "execute_result"
    }
   ],
   "source": [
    "np.array(t)"
   ]
  },
  {
   "cell_type": "code",
   "execution_count": 25,
   "id": "d0e47664-2d70-4658-bb61-911019dbcd0b",
   "metadata": {},
   "outputs": [
    {
     "data": {
      "text/plain": [
       "<tf.Tensor: shape=(3,), dtype=float64, numpy=array([ 4., 16., 25.])>"
      ]
     },
     "execution_count": 25,
     "metadata": {},
     "output_type": "execute_result"
    }
   ],
   "source": [
    "tf.square(a)"
   ]
  },
  {
   "cell_type": "code",
   "execution_count": 26,
   "id": "b6a8e9d6-5a2e-4167-a8bd-1c4c3c550641",
   "metadata": {},
   "outputs": [
    {
     "data": {
      "text/plain": [
       "array([ 4., 16., 25.])"
      ]
     },
     "execution_count": 26,
     "metadata": {},
     "output_type": "execute_result"
    }
   ],
   "source": [
    "np.square(t)"
   ]
  },
  {
   "cell_type": "markdown",
   "id": "b42d569d-d113-4e8a-a028-8dc53dd865c2",
   "metadata": {},
   "source": [
    "## 12.2.3 타입 변환"
   ]
  },
  {
   "cell_type": "markdown",
   "id": "fca5bde9-97cb-4e6c-9c65-1c2ce161ea7d",
   "metadata": {},
   "source": [
    "텐서플로는 자동으로 형변환을 해주지 않는다.  \n",
    "텐서플로는 기본적을 32비트 정밀도를 사용한다.  \n",
    "따라서 64비트와 연산 역시 자동으로 해주지 않는다."
   ]
  },
  {
   "cell_type": "code",
   "execution_count": 27,
   "id": "1436b762-83fa-47d8-a267-0420d0d73f4e",
   "metadata": {},
   "outputs": [
    {
     "name": "stdout",
     "output_type": "stream",
     "text": [
      "텐서플로는 자동형변환이 없음. 오류발생\n"
     ]
    }
   ],
   "source": [
    "try :tf.constant(2.) + tf.constant(40) \n",
    "except: (print(\"텐서플로는 자동형변환이 없음. 오류발생\"))"
   ]
  },
  {
   "cell_type": "code",
   "execution_count": 28,
   "id": "54d00fe5-df28-4d6c-8a62-4b97d79facf1",
   "metadata": {},
   "outputs": [
    {
     "name": "stdout",
     "output_type": "stream",
     "text": [
      "비트 정밀도가 맞지 않음. 오류발생\n"
     ]
    }
   ],
   "source": [
    "try :tf.constant(2.) + tf.constant(40, dtype = \"float64\")\n",
    "except: print(\"비트 정밀도가 맞지 않음. 오류발생\")"
   ]
  },
  {
   "cell_type": "markdown",
   "id": "782bf657-ce95-4c32-8800-b155058ee650",
   "metadata": {},
   "source": [
    "캐스팅하여 맞춰주면 진행."
   ]
  },
  {
   "cell_type": "code",
   "execution_count": 29,
   "id": "8310e846-0b45-4a89-8790-a7ac91b92351",
   "metadata": {},
   "outputs": [
    {
     "data": {
      "text/plain": [
       "<tf.Tensor: shape=(), dtype=float32, numpy=42.0>"
      ]
     },
     "execution_count": 29,
     "metadata": {},
     "output_type": "execute_result"
    }
   ],
   "source": [
    "t2 = tf.constant(40., dtype = \"float64\")\n",
    "tf.constant(2.) + tf.cast(t2,tf.float32)"
   ]
  },
  {
   "cell_type": "markdown",
   "id": "fa1ed408-0906-48b4-99d6-bbb866591f5f",
   "metadata": {},
   "source": [
    "## 12.2.4 변수"
   ]
  },
  {
   "cell_type": "code",
   "execution_count": 30,
   "id": "d3652925-378a-4811-abeb-c890ccfd7908",
   "metadata": {},
   "outputs": [
    {
     "data": {
      "text/plain": [
       "<tf.Variable 'Variable:0' shape=(2, 3) dtype=float32, numpy=\n",
       "array([[1., 2., 3.],\n",
       "       [4., 5., 6.]], dtype=float32)>"
      ]
     },
     "execution_count": 30,
     "metadata": {},
     "output_type": "execute_result"
    }
   ],
   "source": [
    "v = tf.Variable([[1.,2.,3.],[4.,5.,6]])\n",
    "v"
   ]
  },
  {
   "cell_type": "code",
   "execution_count": 31,
   "id": "b0b363f2-68f0-45ee-b0a6-c41465ad159c",
   "metadata": {},
   "outputs": [
    {
     "data": {
      "text/plain": [
       "<tf.Variable 'UnreadVariable' shape=(2, 3) dtype=float32, numpy=\n",
       "array([[ 2.,  4.,  6.],\n",
       "       [ 8., 10., 12.]], dtype=float32)>"
      ]
     },
     "execution_count": 31,
     "metadata": {},
     "output_type": "execute_result"
    }
   ],
   "source": [
    "v.assign(2*v)"
   ]
  },
  {
   "cell_type": "code",
   "execution_count": 32,
   "id": "01d227be-c2d5-436f-a845-a913c2b7e343",
   "metadata": {},
   "outputs": [
    {
     "data": {
      "text/plain": [
       "<tf.Variable 'UnreadVariable' shape=(2, 3) dtype=float32, numpy=\n",
       "array([[ 2., 42.,  6.],\n",
       "       [ 8., 10., 12.]], dtype=float32)>"
      ]
     },
     "execution_count": 32,
     "metadata": {},
     "output_type": "execute_result"
    }
   ],
   "source": [
    "v[0,1].assign(42)"
   ]
  },
  {
   "cell_type": "code",
   "execution_count": 33,
   "id": "ff34d885-fcaf-4115-95f7-dedf967068ca",
   "metadata": {},
   "outputs": [
    {
     "data": {
      "text/plain": [
       "<tf.Variable 'UnreadVariable' shape=(2, 3) dtype=float32, numpy=\n",
       "array([[ 2., 42.,  0.],\n",
       "       [ 8., 10.,  1.]], dtype=float32)>"
      ]
     },
     "execution_count": 33,
     "metadata": {},
     "output_type": "execute_result"
    }
   ],
   "source": [
    "v[:,2].assign([0.,1.])"
   ]
  },
  {
   "cell_type": "markdown",
   "id": "faa7c079-17d3-44ab-b1da-200c0ad17e19",
   "metadata": {},
   "source": [
    "# 12.3 사용자 정의 모델과 훈련 알고리즘"
   ]
  },
  {
   "cell_type": "code",
   "execution_count": 2,
   "id": "7d247429-7f59-4aa5-81f5-5628de1a049c",
   "metadata": {},
   "outputs": [],
   "source": [
    "from sklearn.datasets import fetch_california_housing\n",
    "from sklearn.model_selection import train_test_split\n",
    "from sklearn.preprocessing import StandardScaler\n",
    "\n",
    "housing = fetch_california_housing()\n",
    "X_train_full, X_test, y_train_full, y_test = train_test_split(\n",
    "    housing.data, housing.target.reshape(-1, 1), random_state=42)\n",
    "X_train, X_valid, y_train, y_valid = train_test_split(\n",
    "    X_train_full, y_train_full, random_state=42)\n",
    "\n",
    "scaler = StandardScaler()\n",
    "X_train_scaled = scaler.fit_transform(X_train)\n",
    "X_valid_scaled = scaler.transform(X_valid)\n",
    "X_test_scaled = scaler.transform(X_test)"
   ]
  },
  {
   "cell_type": "code",
   "execution_count": 4,
   "id": "082542b3-fe11-4d4b-81f7-eebe93536674",
   "metadata": {},
   "outputs": [
    {
     "data": {
      "text/plain": [
       "(11610, 8)"
      ]
     },
     "execution_count": 4,
     "metadata": {},
     "output_type": "execute_result"
    }
   ],
   "source": [
    "X_train.shape"
   ]
  },
  {
   "cell_type": "code",
   "execution_count": 5,
   "id": "4b2b3e78-ea1f-48bf-b5ce-2d7c87274d19",
   "metadata": {
    "tags": []
   },
   "outputs": [],
   "source": [
    "input_shape = X_train.shape[1:]"
   ]
  },
  {
   "cell_type": "code",
   "execution_count": 6,
   "id": "ec41515c-3686-4ab4-ad0a-edcdef66c6c3",
   "metadata": {},
   "outputs": [
    {
     "data": {
      "text/plain": [
       "(8,)"
      ]
     },
     "execution_count": 6,
     "metadata": {},
     "output_type": "execute_result"
    }
   ],
   "source": [
    "input_shape"
   ]
  },
  {
   "cell_type": "code",
   "execution_count": 7,
   "id": "28b39f43-0125-4802-ad53-70e57a44e98f",
   "metadata": {},
   "outputs": [],
   "source": [
    "model = keras.models.Sequential([\n",
    "    keras.layers.Dense(300, activation = 'relu', kernel_initializer = 'he_normal',\n",
    "                      input_shape = input_shape),\n",
    "    keras.layers.Dense(100, activation = 'relu', kernel_initializer = 'he_normal'),\n",
    "    keras.layers.Dense(1)\n",
    "])"
   ]
  },
  {
   "cell_type": "markdown",
   "id": "9020fdcb-3efd-4982-9333-4ab9d89415d4",
   "metadata": {},
   "source": [
    "## 12.3.1 사용자 정의 손실 함수 "
   ]
  },
  {
   "cell_type": "markdown",
   "id": "0453523c-09d5-4db7-b230-3e0cd85f94f7",
   "metadata": {},
   "source": [
    "후버손실 구현.  \n",
    "평균보다 하나의 샘플에 대한 계산을 정의하는 것이 유리.  \n",
    "y_true, y_pred"
   ]
  },
  {
   "cell_type": "code",
   "execution_count": 38,
   "id": "322aaf5b-ca12-4f10-8b3f-65fb01bc346b",
   "metadata": {},
   "outputs": [],
   "source": [
    "def huber_loss(y_true, y_pred):\n",
    "    error = y_true-y_pred\n",
    "    is_small = tf.abs(error)<1\n",
    "    mse = tf.square(error)/2\n",
    "    mae = tf.abs(error) - 0.5\n",
    "    return tf.where(is_small, mse, mae)"
   ]
  },
  {
   "cell_type": "code",
   "execution_count": 41,
   "id": "409fb74f-f006-4e63-abd9-9c7b42e6654d",
   "metadata": {},
   "outputs": [],
   "source": [
    "def create_huber(threshold):\n",
    "    def huber_loss(y_true, y_pred):\n",
    "        error = y_true-y_pred\n",
    "        is_small = tf.abs(error)<threshold\n",
    "        mse = tf.square(error)/2\n",
    "        mae = tf.abs(error) - 0.5\n",
    "        return tf.where(is_small, mse, mae)"
   ]
  },
  {
   "cell_type": "markdown",
   "id": "90f5f9ff-448a-4281-b48a-e10a7554c856",
   "metadata": {},
   "source": [
    "후버손실(임계값에 따라 mse,mae 사용)"
   ]
  },
  {
   "cell_type": "code",
   "execution_count": 17,
   "id": "182ca95f-d66d-4f8d-aa63-0f5fcbc611b2",
   "metadata": {
    "tags": []
   },
   "outputs": [],
   "source": [
    "model.compile(loss = huber_loss,optimizer = 'nadam')"
   ]
  },
  {
   "cell_type": "code",
   "execution_count": 18,
   "id": "fdad7126-cff7-4d4b-bc4d-d740c041fe03",
   "metadata": {},
   "outputs": [
    {
     "name": "stdout",
     "output_type": "stream",
     "text": [
      "Epoch 1/10\n",
      "363/363 [==============================] - 1s 3ms/step - loss: 0.3302\n",
      "Epoch 2/10\n",
      "363/363 [==============================] - 2s 5ms/step - loss: 0.2330\n",
      "Epoch 3/10\n",
      "363/363 [==============================] - 3s 8ms/step - loss: 0.2095\n",
      "Epoch 4/10\n",
      "363/363 [==============================] - 4s 11ms/step - loss: 0.1980\n",
      "Epoch 5/10\n",
      "363/363 [==============================] - 5s 13ms/step - loss: 0.2045\n",
      "Epoch 6/10\n",
      "363/363 [==============================] - 6s 16ms/step - loss: 0.1933\n",
      "Epoch 7/10\n",
      "363/363 [==============================] - 7s 19ms/step - loss: 0.1875\n",
      "Epoch 8/10\n",
      "363/363 [==============================] - 8s 21ms/step - loss: 0.1879\n",
      "Epoch 9/10\n",
      "363/363 [==============================] - 9s 24ms/step - loss: 0.1777\n",
      "Epoch 10/10\n",
      "363/363 [==============================] - 10s 27ms/step - loss: 0.1743\n"
     ]
    },
    {
     "data": {
      "text/plain": [
       "<tensorflow.python.keras.callbacks.History at 0x14b7a2d90>"
      ]
     },
     "execution_count": 18,
     "metadata": {},
     "output_type": "execute_result"
    }
   ],
   "source": [
    "model.fit(X_train_scaled,y_train,epochs=10)"
   ]
  },
  {
   "cell_type": "markdown",
   "id": "666f3d7f-7698-4b45-94aa-1656d1b09b44",
   "metadata": {},
   "source": [
    "## 12.3.2 사용자 정의 요소를 가진 모델 저장하고 로드하기"
   ]
  },
  {
   "cell_type": "code",
   "execution_count": 19,
   "id": "9d91545d-565d-4d7e-a955-6f2077a81f54",
   "metadata": {},
   "outputs": [],
   "source": [
    "model.save(\"mymodel.h5\")"
   ]
  },
  {
   "cell_type": "code",
   "execution_count": 20,
   "id": "39d22a87-211a-46da-8942-cb4c7c98837d",
   "metadata": {},
   "outputs": [],
   "source": [
    "model = keras.models.load_model(\"mymodel.h5\",\n",
    "                               custom_objects={\"huber_loss\":huber_loss})"
   ]
  },
  {
   "cell_type": "markdown",
   "id": "04fbd2fe-6e3c-455b-8610-97d4846340ef",
   "metadata": {},
   "source": [
    "#### 파라미터를 저장해야 할때, 원래는 저장안됨\n",
    "\n",
    "알맞는 클래스를 상속받아서 get config를 구현"
   ]
  },
  {
   "cell_type": "code",
   "execution_count": 26,
   "id": "34c51b88-c763-4823-8aa5-8f4a0cf048ba",
   "metadata": {},
   "outputs": [],
   "source": [
    "class HuberLoss(keras.losses.Loss):\n",
    "    def __init__(self,threshold= 1.0, **kwargs):\n",
    "        self.threshold = threshold\n",
    "        super().__init__(**kwargs)\n",
    "    def call(self,y_ture, y_pred):\n",
    "        error = y_true - y_pred\n",
    "        is_small_eror = tf.abs(error) < self.threshold\n",
    "        mse = tf.square(error) /2\n",
    "        mae = self.threshold* tf.abs(error) -self.threshold**2 /2\n",
    "        return tf.where(is_small_eror,mse,mae)\n",
    "    ##중요\n",
    "    def get_config(self):\n",
    "        base_config = super().get_config()\n",
    "        return {**base_config, \"threshold\":self.threshold}\n",
    "        "
   ]
  },
  {
   "cell_type": "markdown",
   "id": "26bbf10a-ffa5-4bac-9ab5-16eea983b790",
   "metadata": {},
   "source": [
    "## 12.3.3 활성화 함수, 초기화, 규제, 제한을 커스터마이징 하기"
   ]
  },
  {
   "cell_type": "markdown",
   "id": "61ea2582-6d65-403c-9bbc-6b9d1b2ee3a8",
   "metadata": {},
   "source": [
    "softplus"
   ]
  },
  {
   "cell_type": "code",
   "execution_count": 27,
   "id": "8281de42-8dc1-4057-ae01-67abb935a667",
   "metadata": {},
   "outputs": [],
   "source": [
    "def my_softplus(z):\n",
    "    return tf.math.log(tf.exp(z + 1.0))"
   ]
  },
  {
   "cell_type": "markdown",
   "id": "34c39a11-097d-45b6-8fde-03ebe35feb07",
   "metadata": {},
   "source": [
    "글로럿 = xavier"
   ]
  },
  {
   "cell_type": "code",
   "execution_count": 28,
   "id": "f88b921f-a26e-4e1a-b688-1a72ed95f46e",
   "metadata": {},
   "outputs": [],
   "source": [
    "def my_glorot_initializer(shape, dtype = tf.float32):\n",
    "    stddev = tf.sqrt(2. / (shape[0] + shape[1]))\n",
    "    return tf.random.normal(shape,stddev=stddev,dtype = dtype)"
   ]
  },
  {
   "cell_type": "markdown",
   "id": "d76afa6e-a4c8-445a-979d-be8f24a83a15",
   "metadata": {},
   "source": [
    "l1"
   ]
  },
  {
   "cell_type": "code",
   "execution_count": 29,
   "id": "d7f7e023-c807-493d-8425-8574090d3694",
   "metadata": {},
   "outputs": [],
   "source": [
    "def my_l1_regularizer(weights):\n",
    "    return tf.reduce_sum(tf.abs(0.01 * weights))\n"
   ]
  },
  {
   "cell_type": "markdown",
   "id": "9c96985f-7d22-445a-a19e-d28949e05629",
   "metadata": {},
   "source": [
    "positive clipping"
   ]
  },
  {
   "cell_type": "code",
   "execution_count": 30,
   "id": "001f259b-cffb-4fa3-9c05-4f416722df99",
   "metadata": {},
   "outputs": [],
   "source": [
    "def my_positive_weights(weights):\n",
    "    return tf.where(weights<0, tf.zeros_like(weights), weights)"
   ]
  },
  {
   "cell_type": "code",
   "execution_count": 31,
   "id": "9f1c9e33-9bd6-414f-81c7-e67c83dbdd54",
   "metadata": {},
   "outputs": [],
   "source": [
    "layer = keras.layers.Dense(30,\n",
    "                          activation=  my_softplus,\n",
    "                          kernel_initializer = my_glorot_initializer,\n",
    "                          kernel_regularizer = my_l1_regularizer,\n",
    "                          kernel_constraint = my_positive_weights)"
   ]
  },
  {
   "cell_type": "markdown",
   "id": "43dc554b-0e02-40bc-8c46-1cbf3a05f567",
   "metadata": {},
   "source": [
    "하이퍼파라미터를 저장해야 할때,   \n",
    "\n",
    "역시 알맞는 클래스를 상속받고, \n",
    "\n",
    "get config 구현"
   ]
  },
  {
   "cell_type": "code",
   "execution_count": 37,
   "id": "34aa1509-45cd-4c6f-9ecd-5d2cb52b0f18",
   "metadata": {},
   "outputs": [],
   "source": [
    "class MyL1Regularizer(keras.regularizers.Regularizer):\n",
    "    def __init__(self,factor):\n",
    "        self.factor = factor\n",
    "    def __call__(self,weights):\n",
    "        return tf.reduce_sum(tf.abs(self.factor * weights))\n",
    "\n",
    "    def get_config(self):\n",
    "        return {'factor' : self.factor}"
   ]
  },
  {
   "cell_type": "markdown",
   "id": "b8533e18-4257-44ea-bf2c-1f671f19e0fb",
   "metadata": {},
   "source": [
    "## 12.3.4 사용자 정의 지표"
   ]
  },
  {
   "cell_type": "markdown",
   "id": "1be9908a-4c80-4389-81a4-3b058b12d8b9",
   "metadata": {},
   "source": [
    "지표와 손실함수는 사실 다르지 않음.  \n",
    "지표는 이해할수 있어야하고  \n",
    "손실은 이해하기 힘들어도 미분 가능하면 될 뿐. "
   ]
  },
  {
   "cell_type": "markdown",
   "id": "7a73bd7e-bda1-4ce4-901e-f94fc6a0a187",
   "metadata": {},
   "source": [
    "스트리밍 지표 만들기  \n",
    "지표는 기본적을 매번 배치에서 구하고 평균을 냄  \n",
    "하지만 정밀도 같은 지표는 매번 배치에서 새로 구해서 평균을 내면 누적값과 다르게 나옴. "
   ]
  },
  {
   "cell_type": "markdown",
   "id": "6cb29edf-13ff-43d6-b6d3-3ab068468599",
   "metadata": {},
   "source": [
    "후버손실을 지표로 상속받아 구현할것인데,  \n",
    "사실 후버손실은 정밀도와 다르게 배치마다 구해서 평균을 내도 결과가 같음."
   ]
  },
  {
   "cell_type": "code",
   "execution_count": 42,
   "id": "a3c22880-b0ea-4e54-9a33-b4c96239eeec",
   "metadata": {},
   "outputs": [],
   "source": [
    "class HuberMetric(keras.metrics.Metric):\n",
    "    def __init__(self,threshold=1.0, **kwargs):\n",
    "        super().__init__(**kwargs)\n",
    "        self.threshold= threshold\n",
    "        self.huber_fn =create_huber(threshold)\n",
    "        self.total = self.add_weight(\"total\", initializer = \"zeros\")\n",
    "        self.count = self.add_weight(\"count\", initializer = \"zeros\")\n",
    "    def update_state(self,y_true,y_pred,sample_weight = None):\n",
    "        metric = self.huber_fn(y_true,y_pred)\n",
    "        self.total.assign_add(tf.reduce_sum(metric))\n",
    "        self.total.assign_add(tf.cast(tf.size(y_true),tf.float32))\n",
    "    def result(self):\n",
    "        return self.total / self.count\n",
    "    \n",
    "    def get_config(self):\n",
    "        base_config = super().get_config()\n",
    "        return {**base_config,\"threshold\":self.threshold}\n",
    "        "
   ]
  },
  {
   "cell_type": "markdown",
   "id": "ec75b279-6bdc-4f99-a79d-4ee7a047fd82",
   "metadata": {},
   "source": [
    "## 12.3.5 사용자 정의 층"
   ]
  },
  {
   "cell_type": "code",
   "execution_count": 239,
   "id": "3acbe62a-ab12-44c7-9db6-1d374920b8b3",
   "metadata": {},
   "outputs": [],
   "source": [
    "from sklearn.model_selection import train_test_split"
   ]
  },
  {
   "cell_type": "code",
   "execution_count": 240,
   "id": "ff5315eb-7033-485a-8111-448365f8c96f",
   "metadata": {},
   "outputs": [],
   "source": [
    "(X_train,y_train),(X_test,y_test) = keras.datasets.mnist.load_data()"
   ]
  },
  {
   "cell_type": "code",
   "execution_count": 241,
   "id": "baadab25-cdc4-4238-a678-8d9541987e83",
   "metadata": {},
   "outputs": [],
   "source": [
    "X_train,X_valid,y_train,y_valid = train_test_split(X_train,y_train, test_size=  0.2)"
   ]
  },
  {
   "cell_type": "code",
   "execution_count": 242,
   "id": "837c18b0-fbbb-419b-9724-28152cb5c78e",
   "metadata": {},
   "outputs": [
    {
     "data": {
      "text/plain": [
       "(48000, 28, 28)"
      ]
     },
     "execution_count": 242,
     "metadata": {},
     "output_type": "execute_result"
    }
   ],
   "source": [
    "X_train.shape"
   ]
  },
  {
   "cell_type": "code",
   "execution_count": 243,
   "id": "9d16d3c3-4971-4434-a0d6-f23385f3b540",
   "metadata": {},
   "outputs": [
    {
     "data": {
      "text/plain": [
       "(48000,)"
      ]
     },
     "execution_count": 243,
     "metadata": {},
     "output_type": "execute_result"
    }
   ],
   "source": [
    "y_train.shape"
   ]
  },
  {
   "cell_type": "markdown",
   "id": "12d403b4-c4be-4edb-bc35-42bceb2e037d",
   "metadata": {},
   "source": [
    "#### 가중치가 없는 층 --> lambda 로 처리  \n",
    "ex) relu, flatten"
   ]
  },
  {
   "cell_type": "code",
   "execution_count": 143,
   "id": "27de6d8c-5886-43f1-bb6d-cb4e6e1ce291",
   "metadata": {},
   "outputs": [],
   "source": [
    "exp_layer =  keras.layers.Lambda(lambda x : tf.exp(x))"
   ]
  },
  {
   "cell_type": "markdown",
   "id": "acc6f185-40a4-4a41-a19e-34903dc11b80",
   "metadata": {},
   "source": [
    "#### 상태가 있는 층 --> keras.layers.Layer 상속"
   ]
  },
  {
   "cell_type": "code",
   "execution_count": 144,
   "id": "baca142b-068d-4a2e-aabb-e2002beabfd2",
   "metadata": {},
   "outputs": [],
   "source": [
    "class MyDense(keras.layers.Layer):\n",
    "    def __init__(self,unit,activation=None,**kwargs):\n",
    "        super().__init__(**kwargs)\n",
    "        self.unit = unit\n",
    "        self.activation = keras.activations.get(activation)\n",
    "    \n",
    "    #build : add_weight 메서드를 호출하여 층의 변수를 만들어줌\n",
    "    def build(self, batch_input_shape):\n",
    "        self.kernel = self.add_weight(\n",
    "            name = \"kernel\", \n",
    "            shape = [batch_input_shape[-1], self.unit],\n",
    "            initializer = keras.initializers.glorot_normal\n",
    "        )\n",
    "        self.bias = self.add_weight(\n",
    "            name = \"bias\",\n",
    "            shape = [self.unit],\n",
    "            initializer = keras.initializers.zeros\n",
    "        )\n",
    "        #마지막의 부모의 build 메서드를 호출하여 층을 생성함을 알려줘야함 .\n",
    "        super().build(batch_input_shape)\n",
    "        \n",
    "        \n",
    "    #call 필요한 연산을 수행. 기본 dense 는 activation(입력 * Weights + bias)\n",
    "    def call(self, X):\n",
    "        return self.activation(tf.matmul(X,self.kernel) + self.bias)\n",
    "    def compute_output_shape(self,batch_input_shape):\n",
    "        return tf.TensorShape(batch_input_shape.as_list()[:-1]+ [self.unit])\n",
    "    \n",
    "    def get_config(self):\n",
    "        base_config  = super().get_config()\n",
    "        return {**base_config, \"unut\": self.unit, \n",
    "                \"activation\": keras.activations.serialize(self.activation)}\n",
    "        "
   ]
  },
  {
   "cell_type": "code",
   "execution_count": 145,
   "id": "65624e95-3033-4502-bc4d-7bf67ea3dae2",
   "metadata": {},
   "outputs": [],
   "source": [
    "model = keras.models.Sequential([\n",
    "    keras.layers.Flatten(input_shape=[28,28]),\n",
    "    MyDense(100,activation = 'relu'),\n",
    "    MyDense(30,activation = 'relu'),\n",
    "    MyDense(10,activation = 'softmax')\n",
    "])"
   ]
  },
  {
   "cell_type": "code",
   "execution_count": 146,
   "id": "aa9a950c-7bcd-475f-9c19-97fce969c18e",
   "metadata": {},
   "outputs": [],
   "source": [
    "model.compile(loss= keras.losses.sparse_categorical_crossentropy,\n",
    "             optimizer = keras.optimizers.Adam())"
   ]
  },
  {
   "cell_type": "code",
   "execution_count": 147,
   "id": "a9d574ae-37fa-476c-8dab-904b68aeb4ae",
   "metadata": {},
   "outputs": [
    {
     "name": "stdout",
     "output_type": "stream",
     "text": [
      "Epoch 1/5\n",
      "1500/1500 [==============================] - 1s 495us/step - loss: 4.8332 - val_loss: 1.3948\n",
      "Epoch 2/5\n",
      "1500/1500 [==============================] - 1s 446us/step - loss: 1.2631 - val_loss: 0.9182\n",
      "Epoch 3/5\n",
      "1500/1500 [==============================] - 1s 443us/step - loss: 0.8027 - val_loss: 0.5823\n",
      "Epoch 4/5\n",
      "1500/1500 [==============================] - 1s 438us/step - loss: 0.4873 - val_loss: 0.3363\n",
      "Epoch 5/5\n",
      "1500/1500 [==============================] - 1s 447us/step - loss: 0.2666 - val_loss: 0.2373\n"
     ]
    },
    {
     "data": {
      "text/plain": [
       "<tensorflow.python.keras.callbacks.History at 0x2a2e16cd0>"
      ]
     },
     "execution_count": 147,
     "metadata": {},
     "output_type": "execute_result"
    }
   ],
   "source": [
    "model.fit(X_train,y_train,epochs=5,\n",
    "         validation_data  = (X_valid, y_valid))"
   ]
  },
  {
   "cell_type": "markdown",
   "id": "691eb45a-64f8-4e46-b279-a445293dccd1",
   "metadata": {},
   "source": [
    "#### 입력 2개 출력 3개"
   ]
  },
  {
   "cell_type": "code",
   "execution_count": 148,
   "id": "984d5008-8a4e-49d7-875d-cc6858efa087",
   "metadata": {},
   "outputs": [],
   "source": [
    "class MymultiLayer(keras.layers.Layer):\n",
    "    def call(self,inputs):\n",
    "        X1,X2  = inputs\n",
    "        \n",
    "        return [X1+X2, X1*X2, X1/X2]\n",
    "    \n",
    "    def compute_output_shape(self, batch_input_shape):\n",
    "        shape1, shape2 = batch_output_shape\n",
    "        \n",
    "        #브로드캐스팅 결과라서.\n",
    "        return [shape1,shape1,shape1] \n",
    "        \n",
    "        "
   ]
  },
  {
   "cell_type": "markdown",
   "id": "f8cd8a2a-6923-49ed-a431-7b02aea025f8",
   "metadata": {},
   "source": [
    "#### 훈련과 테스트에서 다르게 동작하는 층"
   ]
  },
  {
   "cell_type": "code",
   "execution_count": 149,
   "id": "f7aeb429-fe65-4fcc-bda0-7d7fc9dd7949",
   "metadata": {},
   "outputs": [],
   "source": [
    "class MyGaussianNoise(keras.layers.Layer):\n",
    "    def __init__(self, stddev ,**kwargs):\n",
    "        super().__init__(**kwargs)\n",
    "        self.stddev = stddev\n",
    "        \n",
    "    def call(self,X,training= None):\n",
    "        if training:\n",
    "            noise = tf.random.noraml(tf.shape(X), stddev = self.stddev)\n",
    "            return X + noise\n",
    "        else:\n",
    "            return X\n",
    "    def compute_output_shape(self,batch_input_shape):\n",
    "        return batch_input_shape\n",
    "        \n",
    "        "
   ]
  },
  {
   "cell_type": "markdown",
   "id": "d9a5a258-3277-4c2b-979c-e599c3bd0d2a",
   "metadata": {},
   "source": [
    "## 12.3.6 사용자 정의 모델"
   ]
  },
  {
   "cell_type": "markdown",
   "id": "8f8503a5-0e18-4901-bc52-1c1846ed3fbc",
   "metadata": {},
   "source": [
    "잔차블럭(여러 레이어)을 사용하는 model 만들기"
   ]
  },
  {
   "cell_type": "markdown",
   "id": "c34f201d-b01a-4a9b-b145-5dc39cdb75e8",
   "metadata": {},
   "source": [
    "잔차블럭"
   ]
  },
  {
   "cell_type": "code",
   "execution_count": 272,
   "id": "135794b0-0d6e-40cf-b153-0028784eae20",
   "metadata": {},
   "outputs": [],
   "source": [
    "class ResidualBlock(keras.layers.Layer):\n",
    "    def __init__(self,n_layers,n_neurons,**kwargs):\n",
    "        super().__init__(**kwargs)\n",
    "        self.hidden = [keras.layers.Dense(n_neurons,activation = 'elu',\n",
    "                                         kernel_initializer = \"he_normal\") \n",
    "                       for layer in range(n_layers)]\n",
    "    def call(self,inputs):\n",
    "        Z = inputs\n",
    "        for layer in self.hidden:\n",
    "            Z=  layer(Z)\n",
    "        \n",
    "        # 다 통과하고 인풋 더해줌.\n",
    "        return inputs + Z"
   ]
  },
  {
   "cell_type": "markdown",
   "id": "dfee704b-db8b-49f0-b5e1-8bfaa6f8c719",
   "metadata": {},
   "source": [
    "잔차블럭을 사용하는 모델"
   ]
  },
  {
   "cell_type": "code",
   "execution_count": 330,
   "id": "28795feb-d7c8-4f79-ac44-ac922d3fbc67",
   "metadata": {},
   "outputs": [],
   "source": [
    "class ResidualRegressor(keras.Model):\n",
    "    def __init__(self,output_dim,input_shape,**kwargs):\n",
    "        super().__init__(**kwargs)\n",
    "        self.flatten = keras.layers.Flatten(input_shape = input_shape)\n",
    "        self.hidden1 = keras.layers.Dense(300,activation = 'elu',\n",
    "                                         kernel_initializer=  \"he_normal\",\n",
    "                                         )\n",
    "        #인풋과 아웃풋 크기가 같아야 잔차 전달가능.\n",
    "        \n",
    "        self.block1 = ResidualBlock(2,300)\n",
    "        self.block2 = ResidualBlock(2,300)\n",
    "        self.out = keras.layers.Dense(output_dim)\n",
    "        \n",
    "        \n",
    "    def call(self,X):\n",
    "        Z = self.flatten(X)\n",
    "        Z = self.hidden1(Z)\n",
    "        for _ in range(4):\n",
    "            Z = self.block1(Z)\n",
    "        Z = self.block2(Z)\n",
    "        return self.out(Z)"
   ]
  },
  {
   "cell_type": "code",
   "execution_count": 331,
   "id": "673251e1-06bd-4a17-896a-9c46ef4bca13",
   "metadata": {},
   "outputs": [],
   "source": [
    "# input = keras.layers.Flatten()\n",
    "res_model = ResidualRegressor(output_dim = 1,input_shape = [28,28])"
   ]
  },
  {
   "cell_type": "code",
   "execution_count": 333,
   "id": "a53c8112-dfcd-4513-a35d-a3d4ec1a3d29",
   "metadata": {},
   "outputs": [],
   "source": [
    "res_model.compile(loss = 'mse',\n",
    "                 optimizer = keras.optimizers.Adam())"
   ]
  },
  {
   "cell_type": "code",
   "execution_count": 334,
   "id": "e011634a-209a-43d3-a426-e835fd6a5ea3",
   "metadata": {},
   "outputs": [
    {
     "name": "stdout",
     "output_type": "stream",
     "text": [
      "Epoch 1/10\n",
      "1500/1500 [==============================] - 3s 2ms/step - loss: 232135.3450 - val_loss: 154.1324\n",
      "Epoch 2/10\n",
      "1500/1500 [==============================] - 3s 2ms/step - loss: 178.4257 - val_loss: 46.1005\n",
      "Epoch 3/10\n",
      "1500/1500 [==============================] - 3s 2ms/step - loss: 72.3631 - val_loss: 22.9760\n",
      "Epoch 4/10\n",
      "1500/1500 [==============================] - 3s 2ms/step - loss: 53.6735 - val_loss: 12.6163\n",
      "Epoch 5/10\n",
      "1500/1500 [==============================] - 3s 2ms/step - loss: 30.3852 - val_loss: 9.1625\n",
      "Epoch 6/10\n",
      "1500/1500 [==============================] - 3s 2ms/step - loss: 19.6029 - val_loss: 9.0078\n",
      "Epoch 7/10\n",
      "1500/1500 [==============================] - 3s 2ms/step - loss: 11.9829 - val_loss: 5.4743\n",
      "Epoch 8/10\n",
      "1500/1500 [==============================] - 3s 2ms/step - loss: 10.4659 - val_loss: 4.9508\n",
      "Epoch 9/10\n",
      "1500/1500 [==============================] - 3s 2ms/step - loss: 5.6386 - val_loss: 10.5822\n",
      "Epoch 10/10\n",
      "1500/1500 [==============================] - 3s 2ms/step - loss: 3.9640 - val_loss: 2.5238\n"
     ]
    },
    {
     "data": {
      "text/plain": [
       "<tensorflow.python.keras.callbacks.History at 0x2bffab460>"
      ]
     },
     "execution_count": 334,
     "metadata": {},
     "output_type": "execute_result"
    }
   ],
   "source": [
    "res_model.fit(X_train,y_train,epochs=10,\n",
    "             validation_data = (X_valid,y_valid))"
   ]
  },
  {
   "cell_type": "code",
   "execution_count": 335,
   "id": "b2116d41-1f42-4e40-af0c-8da621e6367f",
   "metadata": {},
   "outputs": [
    {
     "name": "stdout",
     "output_type": "stream",
     "text": [
      "313/313 [==============================] - 0s 618us/step - loss: 2.4566\n"
     ]
    },
    {
     "data": {
      "text/plain": [
       "2.4565823078155518"
      ]
     },
     "execution_count": 335,
     "metadata": {},
     "output_type": "execute_result"
    }
   ],
   "source": [
    "res_model.evaluate(X_test,y_test)"
   ]
  },
  {
   "cell_type": "code",
   "execution_count": 348,
   "id": "d8e25fd5-d7e4-416a-ab78-1299238cefea",
   "metadata": {},
   "outputs": [
    {
     "data": {
      "text/plain": [
       "array([[7.]], dtype=float32)"
      ]
     },
     "execution_count": 348,
     "metadata": {},
     "output_type": "execute_result"
    }
   ],
   "source": [
    "np.round(res_model.predict(X_test[:1]),0)"
   ]
  },
  {
   "cell_type": "code",
   "execution_count": 349,
   "id": "1bf99ca0-a504-49b2-aa25-7b09816aca42",
   "metadata": {},
   "outputs": [
    {
     "data": {
      "text/plain": [
       "array([7], dtype=uint8)"
      ]
     },
     "execution_count": 349,
     "metadata": {},
     "output_type": "execute_result"
    }
   ],
   "source": [
    "y_test[:1]"
   ]
  },
  {
   "cell_type": "markdown",
   "id": "fe7b3872-880e-45db-a8b4-890e76d6fdcc",
   "metadata": {
    "tags": []
   },
   "source": [
    "## 12.3.7 모델 구성 요소에 기반한 손실과 지표"
   ]
  },
  {
   "cell_type": "markdown",
   "id": "5e5a13ee-3a67-4c13-ba80-2bbe695af72c",
   "metadata": {},
   "source": [
    "#### reconstruction error 를 손실로 정의  \n",
    "레이블과 예측으로 구하는게 아님 ==> 중간에 구해야함 ==> 서브클래싱으로 직접 계산"
   ]
  },
  {
   "cell_type": "code",
   "execution_count": 118,
   "id": "4f3e67e0-80c4-4fec-ad57-6916e59e3840",
   "metadata": {},
   "outputs": [],
   "source": [
    "class ReconstructingRegressor(keras.Model):\n",
    "    \n",
    "    def __init__(self,output_dim, **kwargs):\n",
    "        super().__init__(**kwargs)\n",
    "        self.hidden = [keras.layers.Dense(30,activation = 'selu', \n",
    "                                         kernel_initializer = 'lecun_normal') for layer in range(5)]\n",
    "        self.out = keras.layers.Dense(output_dim)\n",
    "        self.reconstruct = keras.layers.Dense(8)\n",
    "        self.reconstruction_mean = keras.metrics.Mean(name = \"reconstruction_error\")\n",
    "        \n",
    "    \n",
    "#     def build(self,batch_input_shape):\n",
    "\n",
    "#         n_inputs = batch_input_shape[-1]\n",
    "#         #결과가 인풋 크기랑 같아야 재구성오차 계산 가능\n",
    "#         self.reconstruct = keras.layers.Dense(n_inputs)\n",
    "#         #build 는 항상 부모의 build 메서드 호출하고 끝남\n",
    "#         super().build(batch_input_shape)\n",
    "        \n",
    "    \n",
    "    \n",
    "    #tf 2.4 에 버그가 있음. build와 add_loss를 같이 못씀.\n",
    "    \n",
    "    def call(self,X,training = None):\n",
    "        Z = X\n",
    "        for layer in self.hidden:\n",
    "            Z = layer(Z)\n",
    "        reconstruction = self.reconstruct(Z)\n",
    "        reconstruction_error = tf.reduce_mean(tf.square(reconstruction - X))\n",
    "        self.add_loss(0.05 * reconstruction_error)\n",
    "    \n",
    "        result = self.reconstruction_mean(reconstruction_error)\n",
    "        \n",
    "        self.add_metric(result)\n",
    "        return self.out(Z)\n",
    "    "
   ]
  },
  {
   "cell_type": "code",
   "execution_count": 119,
   "id": "ba167b4a-4bd0-4380-a63d-6bd012073063",
   "metadata": {},
   "outputs": [],
   "source": [
    "keras.backend.clear_session()\n",
    "np.random.seed(42)\n",
    "tf.random.set_seed(42)"
   ]
  },
  {
   "cell_type": "code",
   "execution_count": 120,
   "id": "cddd38e8-48d8-4a83-b0d3-be1c18939e0b",
   "metadata": {},
   "outputs": [],
   "source": [
    "ReconstructingRegressor = ReconstructingRegressor(output_dim = 1)"
   ]
  },
  {
   "cell_type": "code",
   "execution_count": 121,
   "id": "d3593149-4c3f-40c8-8ad3-90f6b95a0e05",
   "metadata": {},
   "outputs": [],
   "source": [
    "ReconstructingRegressor.compile(loss = keras.losses.MSE,\n",
    "                               optimizer = 'adam')"
   ]
  },
  {
   "cell_type": "code",
   "execution_count": 122,
   "id": "b5a1fc22-6e37-4d9b-be86-93fe59d3b743",
   "metadata": {},
   "outputs": [
    {
     "name": "stdout",
     "output_type": "stream",
     "text": [
      "Epoch 1/5\n",
      "363/363 [==============================] - 0s 729us/step - loss: 1.4936 - reconstruction_error: 0.9945 - val_loss: 1.3449 - val_reconstruction_error: 14.2073\n",
      "Epoch 2/5\n",
      "363/363 [==============================] - 0s 553us/step - loss: 0.4683 - reconstruction_error: 0.4001 - val_loss: 0.9896 - val_reconstruction_error: 12.8080\n",
      "Epoch 3/5\n",
      "363/363 [==============================] - 0s 549us/step - loss: 0.4041 - reconstruction_error: 0.3089 - val_loss: 0.9919 - val_reconstruction_error: 12.2759\n",
      "Epoch 4/5\n",
      "363/363 [==============================] - 0s 575us/step - loss: 0.3718 - reconstruction_error: 0.2589 - val_loss: 0.8635 - val_reconstruction_error: 10.7394\n",
      "Epoch 5/5\n",
      "363/363 [==============================] - 0s 571us/step - loss: 0.3656 - reconstruction_error: 0.2214 - val_loss: 0.7992 - val_reconstruction_error: 9.2787\n"
     ]
    }
   ],
   "source": [
    "history = ReconstructingRegressor.fit(X_train_scaled,y_train,epochs=5,\n",
    "                                     validation_data = (X_valid_scaled,y_valid))"
   ]
  },
  {
   "cell_type": "markdown",
   "id": "15c9bdd0-e9af-4284-b6b6-2e299580cd8a",
   "metadata": {
    "tags": []
   },
   "source": [
    "## 12.3.8 자동 미분을 사용하여 그레디언트 계산하기"
   ]
  },
  {
   "cell_type": "code",
   "execution_count": 123,
   "id": "336dee8f-1807-47bb-8776-133987030c25",
   "metadata": {},
   "outputs": [],
   "source": [
    "def f(w1,w2):\n",
    "    return 3*w1**2 + 2 *w1 *w2"
   ]
  },
  {
   "cell_type": "code",
   "execution_count": 125,
   "id": "1b78df31-30ad-4582-b053-950f767be152",
   "metadata": {},
   "outputs": [],
   "source": [
    "w1,w2 = tf.Variable(5.), tf.Variable(3.)\n",
    "with tf.GradientTape() as tape:\n",
    "    z = f(w1,w2)\n",
    "    \n",
    "gradients = tape.gradient(z, [w1,w2])"
   ]
  },
  {
   "cell_type": "code",
   "execution_count": 126,
   "id": "9a6f5569-1fc4-4565-9847-e352eb8bedfb",
   "metadata": {},
   "outputs": [
    {
     "data": {
      "text/plain": [
       "[<tf.Tensor: shape=(), dtype=float32, numpy=36.0>,\n",
       " <tf.Tensor: shape=(), dtype=float32, numpy=10.0>]"
      ]
     },
     "execution_count": 126,
     "metadata": {},
     "output_type": "execute_result"
    }
   ],
   "source": [
    "gradients"
   ]
  },
  {
   "cell_type": "code",
   "execution_count": 127,
   "id": "274bdd4c-331b-4ffc-9516-248817d77e27",
   "metadata": {},
   "outputs": [
    {
     "name": "stdout",
     "output_type": "stream",
     "text": [
      "tape.gradient() 는 한번 호출되면 지워집니다\n"
     ]
    }
   ],
   "source": [
    "try:gradients = tape.gradient(z, [w1,w2])\n",
    "except : print(\"tape.gradient() 는 한번 호출되면 지워집니다\")"
   ]
  },
  {
   "cell_type": "markdown",
   "id": "f32ba225-7b33-405e-b26a-d63f7ebf20e8",
   "metadata": {},
   "source": [
    "한번이상 호출해야 될때는 persistent = true  \n",
    "다쓰면 리소스 해제"
   ]
  },
  {
   "cell_type": "code",
   "execution_count": 130,
   "id": "86ddbb1c-7fad-475b-8a19-12eb4c2adb9c",
   "metadata": {},
   "outputs": [
    {
     "name": "stdout",
     "output_type": "stream",
     "text": [
      "tf.Tensor(36.0, shape=(), dtype=float32) tf.Tensor(10.0, shape=(), dtype=float32)\n"
     ]
    }
   ],
   "source": [
    "with tf.GradientTape(persistent=True) as tape:\n",
    "    z = f(w1,w2)\n",
    "\n",
    "dz_dw1 = tape.gradient(z,w1)\n",
    "dz_dw2 = tape.gradient(z,w2)\n",
    "\n",
    "print(dz_dw1,dz_dw2)\n",
    "\n",
    "del tape\n",
    "    "
   ]
  },
  {
   "cell_type": "markdown",
   "id": "a74aa8c5-370e-46de-96d8-8cb85cae7cc6",
   "metadata": {},
   "source": [
    "tf.Variable이 아닌 객체에 대한 편미분은 None 반환"
   ]
  },
  {
   "cell_type": "code",
   "execution_count": 131,
   "id": "702b77c4-52bc-4d8d-b303-40acee6fbdab",
   "metadata": {},
   "outputs": [
    {
     "name": "stdout",
     "output_type": "stream",
     "text": [
      "[None, None]\n"
     ]
    }
   ],
   "source": [
    "c1,c2 = tf.constant(5.), tf.constant(3.)\n",
    "with tf.GradientTape() as tape:\n",
    "    z = f(c1,c2)\n",
    "    \n",
    "print(tape.gradient(z,[c1,c2]))\n",
    "    "
   ]
  },
  {
   "cell_type": "markdown",
   "id": "65d70bc3-a3ef-454f-b76b-e94877729ca5",
   "metadata": {},
   "source": [
    "tf.Variable이 아니더라도 감시하여 강제로 기록할수 있음"
   ]
  },
  {
   "cell_type": "code",
   "execution_count": 132,
   "id": "18474deb-7004-4e49-b380-6f843a38930e",
   "metadata": {},
   "outputs": [
    {
     "name": "stdout",
     "output_type": "stream",
     "text": [
      "[<tf.Tensor: shape=(), dtype=float32, numpy=36.0>, <tf.Tensor: shape=(), dtype=float32, numpy=10.0>]\n"
     ]
    }
   ],
   "source": [
    "c1,c2 = tf.constant(5.), tf.constant(3.)\n",
    "with tf.GradientTape() as tape:\n",
    "    \n",
    "    ############\n",
    "    tape.watch(c1)\n",
    "    tape.watch(c2)\n",
    "    ############\n",
    "    z = f(c1,c2)\n",
    "    \n",
    "print(tape.gradient(z,[c1,c2]))\n",
    "    "
   ]
  },
  {
   "cell_type": "markdown",
   "id": "22772269-e09c-4d7a-ba49-5a620b180110",
   "metadata": {},
   "source": [
    "일부가 역전파 되지 않게 하는법"
   ]
  },
  {
   "cell_type": "code",
   "execution_count": 133,
   "id": "47154b69-73f3-438a-ac19-f69f56e66331",
   "metadata": {},
   "outputs": [],
   "source": [
    "def f(w1,w2):\n",
    "    #정방향은 작동하지만 stop_gradient 안에는 역전파가 일어나지 않음.\n",
    "    return 3*w1**2 + tf.stop_gradient(2*w1*w2)"
   ]
  },
  {
   "cell_type": "code",
   "execution_count": 134,
   "id": "ee76fc3d-27ef-4070-88b1-ec0697c8ce87",
   "metadata": {},
   "outputs": [],
   "source": [
    "with tf.GradientTape() as tape:\n",
    "    ####### w2는 stop_gradient 안에만 있으니깐 역전파시 None 반환할듯.\n",
    "    z = f(w1,w2)"
   ]
  },
  {
   "cell_type": "code",
   "execution_count": 135,
   "id": "7ddb583e-6478-4eda-b9cc-0c3fa2ed4cc6",
   "metadata": {},
   "outputs": [],
   "source": [
    "gradient = tape.gradient(z,[w1,w2])"
   ]
  },
  {
   "cell_type": "code",
   "execution_count": 136,
   "id": "0c37bf83-2377-4068-b453-912ffce9b793",
   "metadata": {},
   "outputs": [
    {
     "data": {
      "text/plain": [
       "[<tf.Tensor: shape=(), dtype=float32, numpy=30.0>, None]"
      ]
     },
     "execution_count": 136,
     "metadata": {},
     "output_type": "execute_result"
    }
   ],
   "source": [
    "gradient"
   ]
  },
  {
   "cell_type": "code",
   "execution_count": 147,
   "id": "1e4f9b0e-28a7-4490-b8a1-1ba12103b707",
   "metadata": {},
   "outputs": [
    {
     "data": {
      "text/plain": [
       "40.0"
      ]
     },
     "execution_count": 147,
     "metadata": {},
     "output_type": "execute_result"
    }
   ],
   "source": [
    "np.log(np.exp(40)+1)"
   ]
  },
  {
   "cell_type": "markdown",
   "id": "f6091b8c-b077-459a-81f1-d91dc65b1c27",
   "metadata": {},
   "source": [
    "## 12.3.9 사용자 정의 훈련 반복"
   ]
  },
  {
   "cell_type": "markdown",
   "id": "ac61ccef-555f-4c80-bdd2-7e8d610d42fa",
   "metadata": {},
   "source": [
    ".fit 보다 더 유연함을 원할때... ex) 두개의 옵티마이저.\n",
    "\n",
    "\n",
    "더 어렵고, 버그가 잦으니 알아둘것."
   ]
  },
  {
   "cell_type": "code",
   "execution_count": 148,
   "id": "ac0b77cd-73f2-4f6c-aba7-a0e86f7f6a78",
   "metadata": {},
   "outputs": [],
   "source": [
    "l2_reg = keras.regularizers.l2(0.05)"
   ]
  },
  {
   "cell_type": "code",
   "execution_count": 187,
   "id": "3c0f9db7-4441-46ee-998e-4e379d06d498",
   "metadata": {},
   "outputs": [],
   "source": [
    "model = keras.models.Sequential([\n",
    "    keras.layers.Dense(30,activation = 'elu',kernel_initializer = 'he_normal',\n",
    "                      kernel_regularizer = l2_reg),\n",
    "    keras.layers.Dense(1, kernel_regularizer = l2_reg)\n",
    "])"
   ]
  },
  {
   "cell_type": "markdown",
   "id": "323ef1df-bbb1-4092-9638-09eeea3f2d8b",
   "metadata": {},
   "source": [
    "랜덤배치 추출함수 "
   ]
  },
  {
   "cell_type": "code",
   "execution_count": 188,
   "id": "9f517c08-f08f-4915-ad74-77dacb617bc9",
   "metadata": {},
   "outputs": [],
   "source": [
    "def random_batch(X,y, batch_size= 32):\n",
    "    idx = np.random.randint(len(X),size = batch_size)\n",
    "    return X[idx],y[idx]"
   ]
  },
  {
   "cell_type": "markdown",
   "id": "580fa45b-47af-4872-9291-4620c7260baa",
   "metadata": {
    "tags": []
   },
   "source": [
    "상태 바 출력"
   ]
  },
  {
   "cell_type": "code",
   "execution_count": 189,
   "id": "5f973a5e-4f86-4cb6-9e20-731e6fe7efd3",
   "metadata": {},
   "outputs": [
    {
     "name": "stdout",
     "output_type": "stream",
     "text": [
      "9999"
     ]
    }
   ],
   "source": [
    "#깨알 팁. 캐리지 리턴 \\r \n",
    "#같은 줄에 출력하면 밀어내고 새로출력. 상태 bar 만들때 유용\n",
    "for i in range(10000):\n",
    "    print(f\"\\r{i}\",end = \"\")"
   ]
  },
  {
   "cell_type": "code",
   "execution_count": 190,
   "id": "caf8f4d5-fb0d-4a11-bacf-fe4182454b71",
   "metadata": {},
   "outputs": [],
   "source": [
    "def print_status_bar(iteration, total, loss,metrics=None):\n",
    "    metrics ='-'.join([\"{}:{:.4f}\".format(m.name,m.result())\n",
    "                      for m in [loss]+(metrics or [] )])\n",
    "    end = \"\" if iteration < total else \"\\n\"\n",
    "    print(f\"\\r{iteration}/{total} {metrics}\",end = end)"
   ]
  },
  {
   "cell_type": "markdown",
   "id": "7d364bd0-f1ed-44fb-a004-8bc9777e88e6",
   "metadata": {},
   "source": [
    "하이퍼 파라미터 정의."
   ]
  },
  {
   "cell_type": "code",
   "execution_count": 191,
   "id": "4e71b757-16fa-4499-b4c5-d61f37f4db55",
   "metadata": {},
   "outputs": [],
   "source": [
    "n_epochs = 5\n",
    "batch_size=32\n",
    "n_steps = len(X_train)//batch_size\n",
    "optimizer = keras.optimizers.Adam(lr = 0.01)\n",
    "loss_fn = keras.losses.mean_squared_error\n",
    "mean_loss = keras.metrics.Mean()\n",
    "metrics = [keras.metrics.MeanAbsoluteError()]"
   ]
  },
  {
   "cell_type": "code",
   "execution_count": 207,
   "id": "08c6f455-00f5-40a1-a4fc-b20fcc28e777",
   "metadata": {},
   "outputs": [
    {
     "name": "stdout",
     "output_type": "stream",
     "text": [
      "에포크 1/5\n",
      "11610/11610 mean:1.5085-mean_absolute_error:0.6599\n",
      "에포크 2/5\n",
      "11610/11610 mean:1.6632-mean_absolute_error:0.7270\n",
      "에포크 3/5\n",
      "11610/11610 mean:1.3941-mean_absolute_error:0.6620\n",
      "에포크 4/5\n",
      "11610/11610 mean:3.1613-mean_absolute_error:1.0377\n",
      "에포크 5/5\n",
      "11610/11610 mean:29.3634-mean_absolute_error:2.4586\n"
     ]
    }
   ],
   "source": [
    "for epoch in range(1, n_epochs +1 ):\n",
    "    print(f\"에포크 {epoch}/{n_epochs}\")\n",
    "    \n",
    "    for step in range(1,n_steps+1):\n",
    "        batch_X, batch_y = random_batch(X_train,y_train,batch_size = batch_size)\n",
    "        \n",
    "        with tf.GradientTape() as tape:\n",
    "            \n",
    "            #히나의 배치에 대한 예측, 손실\n",
    "            y_pred = model(batch_X)\n",
    "            main_loss = tf.reduce_mean(loss_fn(batch_y,y_pred))\n",
    "            loss = tf.add_n([main_loss] + model.losses)\n",
    "        \n",
    "        #하나의 배치에 대한 결과로 업데이트\n",
    "        gradients = tape.gradient(loss,model.trainable_variables)\n",
    "        optimizer.apply_gradients(zip(gradients,model.trainable_variables))\n",
    "        \n",
    "        for variable in model.variables:\n",
    "            if variable.constraint is not None:\n",
    "               variable.assign(variable.constraint(variable))\n",
    "        \n",
    "        #전체 배치 평균      \n",
    "        mean_loss(loss)\n",
    "        \n",
    "        for metric in metrics:\n",
    "            metric(batch_y,y_pred)\n",
    "        print_status_bar(step *batch_size, len(y_train) , mean_loss, metrics)\n",
    "        \n",
    "    print_status_bar(len(y_train), len(y_train) , mean_loss, metrics)\n",
    "    \n",
    "    for metric in [mean_loss] + metrics:\n",
    "        metric.reset_states()\n",
    "\n",
    "        \n",
    "    "
   ]
  },
  {
   "cell_type": "markdown",
   "id": "56e0324d-0986-4b8c-b7a0-e54ac79f65ed",
   "metadata": {},
   "source": [
    "# 12.4 텐서플로 함수와 그래프"
   ]
  },
  {
   "cell_type": "markdown",
   "id": "f0495563-e8a5-4e24-9bab-2df8e49df5a8",
   "metadata": {},
   "source": [
    "텐서플로는 최적화를 진행하기 때문에  \n",
    "파이썬 함수를 텐서플로 함수로 바꾸는 것이 좋음"
   ]
  },
  {
   "cell_type": "code",
   "execution_count": 208,
   "id": "971bead3-23df-49b3-a936-6a76a26e1a6a",
   "metadata": {},
   "outputs": [],
   "source": [
    "def cube(X):\n",
    "    return X **3"
   ]
  },
  {
   "cell_type": "code",
   "execution_count": 209,
   "id": "69456eaa-e293-4b18-bd74-93aaff2506ca",
   "metadata": {},
   "outputs": [
    {
     "data": {
      "text/plain": [
       "8"
      ]
     },
     "execution_count": 209,
     "metadata": {},
     "output_type": "execute_result"
    }
   ],
   "source": [
    "cube(2)"
   ]
  },
  {
   "cell_type": "code",
   "execution_count": 212,
   "id": "9b7e78ba-2f08-4aed-80af-a90f392dbc17",
   "metadata": {},
   "outputs": [
    {
     "data": {
      "text/plain": [
       "<tf.Tensor: shape=(), dtype=float32, numpy=8.0>"
      ]
     },
     "execution_count": 212,
     "metadata": {},
     "output_type": "execute_result"
    }
   ],
   "source": [
    "cube(tf.constant(2.0))"
   ]
  },
  {
   "cell_type": "markdown",
   "id": "3298eaf3-949f-4222-a1b6-70aa8e927408",
   "metadata": {},
   "source": [
    "텐서플로 함수로 바꾸기"
   ]
  },
  {
   "cell_type": "code",
   "execution_count": 214,
   "id": "61ec60ed-a9ee-4ad6-bb12-ea12c704b981",
   "metadata": {},
   "outputs": [
    {
     "data": {
      "text/plain": [
       "<tensorflow.python.eager.def_function.Function at 0x29162c3a0>"
      ]
     },
     "execution_count": 214,
     "metadata": {},
     "output_type": "execute_result"
    }
   ],
   "source": [
    "tf_cube = tf.function(cube)\n",
    "tf_cube"
   ]
  },
  {
   "cell_type": "code",
   "execution_count": 215,
   "id": "33728ec9-45f9-454b-a20d-d6cea52e16f6",
   "metadata": {},
   "outputs": [
    {
     "data": {
      "text/plain": [
       "<tf.Tensor: shape=(), dtype=int32, numpy=8>"
      ]
     },
     "execution_count": 215,
     "metadata": {},
     "output_type": "execute_result"
    }
   ],
   "source": [
    "tf_cube(2)"
   ]
  },
  {
   "cell_type": "code",
   "execution_count": 216,
   "id": "b4c7a4a8-e151-43a6-8341-7248e3f42662",
   "metadata": {},
   "outputs": [
    {
     "data": {
      "text/plain": [
       "<tf.Tensor: shape=(), dtype=float32, numpy=8.0>"
      ]
     },
     "execution_count": 216,
     "metadata": {},
     "output_type": "execute_result"
    }
   ],
   "source": [
    "tf_cube(tf.constant(2.0))"
   ]
  },
  {
   "cell_type": "markdown",
   "id": "64ee4046-6a95-4fdb-85b0-412a6da5511e",
   "metadata": {},
   "source": [
    "데코레이터를 사용하는게 더 대중적"
   ]
  },
  {
   "cell_type": "code",
   "execution_count": 217,
   "id": "4fe539d5-4ccb-4f5f-a081-86bd779db39c",
   "metadata": {},
   "outputs": [],
   "source": [
    "@tf.function\n",
    "def tf_cube(x):\n",
    "    return x**3"
   ]
  },
  {
   "cell_type": "code",
   "execution_count": 219,
   "id": "d0b50b38-fdd6-477d-9e6b-189665ffc288",
   "metadata": {},
   "outputs": [
    {
     "data": {
      "text/plain": [
       "8"
      ]
     },
     "execution_count": 219,
     "metadata": {},
     "output_type": "execute_result"
    }
   ],
   "source": [
    "#원본 파이썬 함수도 접근 가능\n",
    "tf_cube.python_function(2)"
   ]
  },
  {
   "cell_type": "code",
   "execution_count": null,
   "id": "91680b96-402f-4dc3-833c-b6146ad31e9e",
   "metadata": {},
   "outputs": [],
   "source": []
  }
 ],
 "metadata": {
  "kernelspec": {
   "display_name": "m1",
   "language": "python",
   "name": "m1"
  },
  "language_info": {
   "codemirror_mode": {
    "name": "ipython",
    "version": 3
   },
   "file_extension": ".py",
   "mimetype": "text/x-python",
   "name": "python",
   "nbconvert_exporter": "python",
   "pygments_lexer": "ipython3",
   "version": "3.8.10"
  }
 },
 "nbformat": 4,
 "nbformat_minor": 5
}
